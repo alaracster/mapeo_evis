{
 "cells": [
  {
   "cell_type": "markdown",
   "id": "d5a79eee",
   "metadata": {},
   "source": [
    "**All imports in one place**"
   ]
  },
  {
   "cell_type": "code",
   "execution_count": 1,
   "id": "262b0c2e",
   "metadata": {},
   "outputs": [],
   "source": [
    "import mapbox\n",
    "import pandas as pd\n",
    "import plotly.express as px\n",
    "from IPython.display import HTML, IFrame\n",
    "from IPython.display import GeoJSON\n",
    "import numpy as np\n",
    "from numpy import pi, sin, cos\n",
    "import plotly.graph_objs as go\n",
    "from haversine import inverse_haversine, Direction, Unit\n",
    "from math import pi"
   ]
  },
  {
   "cell_type": "markdown",
   "id": "99b1a24f",
   "metadata": {},
   "source": [
    "**Download the Mapbox token from local directory**"
   ]
  },
  {
   "cell_type": "code",
   "execution_count": 2,
   "id": "bca86ac8",
   "metadata": {},
   "outputs": [],
   "source": [
    "token = open(\".mapbox_token\").read() # you will need your own token\n",
    "token = token[0:-1] # Token has been saved with an extraneous newline. This removes it.\n",
    "\n",
    "mapbox_access_token = token # Code below uses this name."
   ]
  },
  {
   "cell_type": "markdown",
   "id": "8d6879f2",
   "metadata": {},
   "source": [
    "# This is the magnificient code that draws a circle around a specific point on the map."
   ]
  },
  {
   "cell_type": "markdown",
   "id": "df573796",
   "metadata": {},
   "source": [
    "Size of the circle, coordinates."
   ]
  },
  {
   "cell_type": "code",
   "execution_count": 9,
   "id": "15b58821",
   "metadata": {},
   "outputs": [],
   "source": [
    "R = 0.5 # 500 meters\n",
    "center_lon = -99.1332 \n",
    "center_lat = 19.4326"
   ]
  },
  {
   "cell_type": "markdown",
   "id": "3423649b",
   "metadata": {},
   "source": [
    "Circle around the selected point\n",
    "\n",
    "inverse_haversine provides latitude and longitude given original coordinates, distance in km and direction in radians"
   ]
  },
  {
   "cell_type": "code",
   "execution_count": 10,
   "id": "cde7ca16",
   "metadata": {},
   "outputs": [],
   "source": [
    "center = (center_lat, center_lon)\n",
    "t = np.linspace(0, 2*pi, 100)\n",
    "# circle_lon = center_lon + R*cos(t)\n",
    "# circle_lat =center_lat +  R*sin(t)\n",
    "#circle_lon = inverse_haversine(casa, R, t)[0]\n",
    "circle_lon = []\n",
    "circle_lat = []\n",
    "\n",
    "for point in t:\n",
    "    circle_lat.append(inverse_haversine(center, R, point)[0])\n",
    "    circle_lon.append(inverse_haversine(center, R, point)[1])"
   ]
  },
  {
   "cell_type": "markdown",
   "id": "547b83af",
   "metadata": {},
   "source": [
    "**Define figure to draw on mapbox graph.**"
   ]
  },
  {
   "cell_type": "code",
   "execution_count": 11,
   "id": "0573290c",
   "metadata": {},
   "outputs": [],
   "source": [
    "fig = go.Figure(go.Scattermapbox(\n",
    "                    lat=[center_lat],\n",
    "                    lon=[center_lon],\n",
    "                    mode='markers',\n",
    "                    text='Place of interest',\n",
    "                    marker_size=9, marker_color='red',\n",
    "                    hoverinfo='text'))\n",
    "\n",
    "\n",
    "coords=[]\n",
    "for lo, la in zip(list(circle_lon), list(circle_lat)):\n",
    "    coords.append([lo, la]) "
   ]
  },
  {
   "cell_type": "markdown",
   "id": "47ed557f",
   "metadata": {},
   "source": [
    "**Draw the map.**"
   ]
  },
  {
   "cell_type": "code",
   "execution_count": 12,
   "id": "6c4eb57c",
   "metadata": {},
   "outputs": [
    {
     "data": {
      "application/vnd.plotly.v1+json": {
       "config": {
        "plotlyServerURL": "https://plot.ly"
       },
       "data": [
        {
         "hoverinfo": "text",
         "lat": [
          19.4326
         ],
         "lon": [
          -99.1332
         ],
         "marker": {
          "color": "red",
          "size": 9
         },
         "mode": "markers",
         "text": "Place of interest",
         "type": "scattermapbox"
        }
       ],
       "layout": {
        "height": 850,
        "mapbox": {
         "accesstoken": "pk.eyJ1Ijoiam9yZGlzb2QiLCJhIjoiY2x4OWxhZmNrMWE5djJscHpqOXN6cWNzaiJ9.A3pg2qG6O_DJj15BUybhiQ",
         "bearing": 0,
         "center": {
          "lat": 19.4326,
          "lon": -99.1332
         },
         "layers": [
          {
           "color": "red",
           "line": {
            "width": 1.5
           },
           "source": {
            "geometry": {
             "coordinates": [
              [
               -99.1332,
               19.437096601818624
              ],
              [
               -99.1328975717303,
               19.437087548453956
              ],
              [
               -99.13259636133333,
               19.437060424817673
              ],
              [
               -99.13229758177627,
               19.437015340136103
              ],
              [
               -99.1320024362349,
               19.436952475964215
              ],
              [
               -99.1317121132474,
               19.43687208545431
              ],
              [
               -99.13142778192699,
               19.436774492336372
              ],
              [
               -99.13115058725288,
               19.436660089614048
              ],
              [
               -99.13088164545876,
               19.436529337981735
              ],
              [
               -99.13062203953692,
               19.436382763968904
              ],
              [
               -99.13037281487645,
               19.43622095781937
              ],
              [
               -99.13013497505318,
               19.43604457111389
              ],
              [
               -99.12990947778792,
               19.43585431414577
              ],
              [
               -99.12969723108976,
               19.435650953060016
              ],
              [
               -99.12949908959962,
               19.435435306767566
              ],
              [
               -99.12931585114896,
               19.43520824364709
              ],
              [
               -99.12914825354738,
               19.434970678047538
              ],
              [
               -99.12899697161227,
               19.434723566605662
              ],
              [
               -99.12886261445203,
               19.434467904393276
              ],
              [
               -99.12874572301432,
               19.434204720909772
              ],
              [
               -99.12864676790885,
               19.43393507593609
              ],
              [
               -99.12856614751345,
               19.433660055266806
              ],
              [
               -99.12850418637134,
               19.433380766337557
              ],
              [
               -99.12846113388562,
               19.433098333765358
              ],
              [
               -99.12843716331653,
               19.43281389481992
              ],
              [
               -99.12843237108531,
               19.432528594843994
              ],
              [
               -99.12844677638766,
               19.43224358264139
              ],
              [
               -99.12848032111793,
               19.43196000585112
              ],
              [
               -99.12853287010482,
               19.431679006326338
              ],
              [
               -99.12860421165719,
               19.431401715536634
              ],
              [
               -99.12869405841803,
               19.431129250012333
              ],
              [
               -99.12880204852294,
               19.430862706848917
              ],
              [
               -99.12892774705865,
               19.43060315928987
              ],
              [
               -99.12907064781537,
               19.43035165240561
              ],
              [
               -99.12923017532627,
               19.430109198885933
              ],
              [
               -99.12940568718554,
               19.42987677496291
              ],
              [
               -99.12959647663583,
               19.429655316480652
              ],
              [
               -99.12980177541469,
               19.429445715127684
              ],
              [
               -99.13002075684845,
               19.4292488148472
              ],
              [
               -99.13025253918094,
               19.42906540843957
              ],
              [
               -99.1304961891241,
               19.428896234370768
              ],
              [
               -99.13075072561558,
               19.428741973799585
              ],
              [
               -99.13101512376873,
               19.428603247835586
              ],
              [
               -99.13128831899878,
               19.428480615038804
              ],
              [
               -99.13156921130864,
               19.428374569171268
              ],
              [
               -99.13185666971721,
               19.428285537209394
              ],
              [
               -99.13214953681228,
               19.428213877625243
              ],
              [
               -99.13244663340966,
               19.428159878943525
              ],
              [
               -99.13274676329996,
               19.428123758580163
              ],
              [
               -99.13304871806383,
               19.428105661967155
              ],
              [
               -99.13335128193616,
               19.428105661967155
              ],
              [
               -99.13365323670003,
               19.428123758580163
              ],
              [
               -99.13395336659033,
               19.428159878943525
              ],
              [
               -99.13425046318771,
               19.428213877625243
              ],
              [
               -99.13454333028278,
               19.428285537209394
              ],
              [
               -99.13483078869135,
               19.428374569171268
              ],
              [
               -99.13511168100122,
               19.428480615038804
              ],
              [
               -99.13538487623126,
               19.428603247835586
              ],
              [
               -99.13564927438442,
               19.428741973799585
              ],
              [
               -99.1359038108759,
               19.428896234370768
              ],
              [
               -99.13614746081905,
               19.42906540843957
              ],
              [
               -99.13637924315155,
               19.4292488148472
              ],
              [
               -99.1365982245853,
               19.429445715127684
              ],
              [
               -99.13680352336418,
               19.429655316480652
              ],
              [
               -99.13699431281447,
               19.42987677496291
              ],
              [
               -99.13716982467372,
               19.430109198885933
              ],
              [
               -99.13732935218462,
               19.43035165240561
              ],
              [
               -99.13747225294134,
               19.43060315928987
              ],
              [
               -99.13759795147705,
               19.430862706848917
              ],
              [
               -99.13770594158197,
               19.431129250012333
              ],
              [
               -99.1377957883428,
               19.431401715536634
              ],
              [
               -99.13786712989518,
               19.431679006326338
              ],
              [
               -99.13791967888206,
               19.43196000585112
              ],
              [
               -99.13795322361233,
               19.43224358264139
              ],
              [
               -99.13796762891468,
               19.432528594843994
              ],
              [
               -99.13796283668347,
               19.43281389481992
              ],
              [
               -99.13793886611437,
               19.433098333765358
              ],
              [
               -99.13789581362865,
               19.433380766337557
              ],
              [
               -99.13783385248655,
               19.433660055266806
              ],
              [
               -99.13775323209116,
               19.43393507593609
              ],
              [
               -99.13765427698569,
               19.434204720909772
              ],
              [
               -99.13753738554797,
               19.434467904393276
              ],
              [
               -99.13740302838772,
               19.434723566605662
              ],
              [
               -99.1372517464526,
               19.434970678047538
              ],
              [
               -99.13708414885105,
               19.43520824364709
              ],
              [
               -99.13690091040039,
               19.435435306767566
              ],
              [
               -99.13670276891023,
               19.435650953060016
              ],
              [
               -99.13649052221207,
               19.43585431414577
              ],
              [
               -99.13626502494681,
               19.43604457111389
              ],
              [
               -99.13602718512354,
               19.43622095781937
              ],
              [
               -99.13577796046309,
               19.436382763968904
              ],
              [
               -99.13551835454125,
               19.436529337981735
              ],
              [
               -99.13524941274711,
               19.436660089614048
              ],
              [
               -99.134972218073,
               19.436774492336372
              ],
              [
               -99.13468788675259,
               19.43687208545431
              ],
              [
               -99.13439756376509,
               19.436952475964215
              ],
              [
               -99.13410241822373,
               19.437015340136103
              ],
              [
               -99.13380363866666,
               19.437060424817673
              ],
              [
               -99.1335024282697,
               19.437087548453956
              ],
              [
               -99.1332,
               19.437096601818624
              ]
             ],
             "type": "LineString"
            },
            "type": "Feature"
           },
           "sourcetype": "geojson",
           "type": "line"
          }
         ],
         "pitch": 0,
         "style": "outdoors",
         "zoom": 15
        },
        "template": {
         "data": {
          "bar": [
           {
            "error_x": {
             "color": "#2a3f5f"
            },
            "error_y": {
             "color": "#2a3f5f"
            },
            "marker": {
             "line": {
              "color": "#E5ECF6",
              "width": 0.5
             },
             "pattern": {
              "fillmode": "overlay",
              "size": 10,
              "solidity": 0.2
             }
            },
            "type": "bar"
           }
          ],
          "barpolar": [
           {
            "marker": {
             "line": {
              "color": "#E5ECF6",
              "width": 0.5
             },
             "pattern": {
              "fillmode": "overlay",
              "size": 10,
              "solidity": 0.2
             }
            },
            "type": "barpolar"
           }
          ],
          "carpet": [
           {
            "aaxis": {
             "endlinecolor": "#2a3f5f",
             "gridcolor": "white",
             "linecolor": "white",
             "minorgridcolor": "white",
             "startlinecolor": "#2a3f5f"
            },
            "baxis": {
             "endlinecolor": "#2a3f5f",
             "gridcolor": "white",
             "linecolor": "white",
             "minorgridcolor": "white",
             "startlinecolor": "#2a3f5f"
            },
            "type": "carpet"
           }
          ],
          "choropleth": [
           {
            "colorbar": {
             "outlinewidth": 0,
             "ticks": ""
            },
            "type": "choropleth"
           }
          ],
          "contour": [
           {
            "colorbar": {
             "outlinewidth": 0,
             "ticks": ""
            },
            "colorscale": [
             [
              0,
              "#0d0887"
             ],
             [
              0.1111111111111111,
              "#46039f"
             ],
             [
              0.2222222222222222,
              "#7201a8"
             ],
             [
              0.3333333333333333,
              "#9c179e"
             ],
             [
              0.4444444444444444,
              "#bd3786"
             ],
             [
              0.5555555555555556,
              "#d8576b"
             ],
             [
              0.6666666666666666,
              "#ed7953"
             ],
             [
              0.7777777777777778,
              "#fb9f3a"
             ],
             [
              0.8888888888888888,
              "#fdca26"
             ],
             [
              1,
              "#f0f921"
             ]
            ],
            "type": "contour"
           }
          ],
          "contourcarpet": [
           {
            "colorbar": {
             "outlinewidth": 0,
             "ticks": ""
            },
            "type": "contourcarpet"
           }
          ],
          "heatmap": [
           {
            "colorbar": {
             "outlinewidth": 0,
             "ticks": ""
            },
            "colorscale": [
             [
              0,
              "#0d0887"
             ],
             [
              0.1111111111111111,
              "#46039f"
             ],
             [
              0.2222222222222222,
              "#7201a8"
             ],
             [
              0.3333333333333333,
              "#9c179e"
             ],
             [
              0.4444444444444444,
              "#bd3786"
             ],
             [
              0.5555555555555556,
              "#d8576b"
             ],
             [
              0.6666666666666666,
              "#ed7953"
             ],
             [
              0.7777777777777778,
              "#fb9f3a"
             ],
             [
              0.8888888888888888,
              "#fdca26"
             ],
             [
              1,
              "#f0f921"
             ]
            ],
            "type": "heatmap"
           }
          ],
          "heatmapgl": [
           {
            "colorbar": {
             "outlinewidth": 0,
             "ticks": ""
            },
            "colorscale": [
             [
              0,
              "#0d0887"
             ],
             [
              0.1111111111111111,
              "#46039f"
             ],
             [
              0.2222222222222222,
              "#7201a8"
             ],
             [
              0.3333333333333333,
              "#9c179e"
             ],
             [
              0.4444444444444444,
              "#bd3786"
             ],
             [
              0.5555555555555556,
              "#d8576b"
             ],
             [
              0.6666666666666666,
              "#ed7953"
             ],
             [
              0.7777777777777778,
              "#fb9f3a"
             ],
             [
              0.8888888888888888,
              "#fdca26"
             ],
             [
              1,
              "#f0f921"
             ]
            ],
            "type": "heatmapgl"
           }
          ],
          "histogram": [
           {
            "marker": {
             "pattern": {
              "fillmode": "overlay",
              "size": 10,
              "solidity": 0.2
             }
            },
            "type": "histogram"
           }
          ],
          "histogram2d": [
           {
            "colorbar": {
             "outlinewidth": 0,
             "ticks": ""
            },
            "colorscale": [
             [
              0,
              "#0d0887"
             ],
             [
              0.1111111111111111,
              "#46039f"
             ],
             [
              0.2222222222222222,
              "#7201a8"
             ],
             [
              0.3333333333333333,
              "#9c179e"
             ],
             [
              0.4444444444444444,
              "#bd3786"
             ],
             [
              0.5555555555555556,
              "#d8576b"
             ],
             [
              0.6666666666666666,
              "#ed7953"
             ],
             [
              0.7777777777777778,
              "#fb9f3a"
             ],
             [
              0.8888888888888888,
              "#fdca26"
             ],
             [
              1,
              "#f0f921"
             ]
            ],
            "type": "histogram2d"
           }
          ],
          "histogram2dcontour": [
           {
            "colorbar": {
             "outlinewidth": 0,
             "ticks": ""
            },
            "colorscale": [
             [
              0,
              "#0d0887"
             ],
             [
              0.1111111111111111,
              "#46039f"
             ],
             [
              0.2222222222222222,
              "#7201a8"
             ],
             [
              0.3333333333333333,
              "#9c179e"
             ],
             [
              0.4444444444444444,
              "#bd3786"
             ],
             [
              0.5555555555555556,
              "#d8576b"
             ],
             [
              0.6666666666666666,
              "#ed7953"
             ],
             [
              0.7777777777777778,
              "#fb9f3a"
             ],
             [
              0.8888888888888888,
              "#fdca26"
             ],
             [
              1,
              "#f0f921"
             ]
            ],
            "type": "histogram2dcontour"
           }
          ],
          "mesh3d": [
           {
            "colorbar": {
             "outlinewidth": 0,
             "ticks": ""
            },
            "type": "mesh3d"
           }
          ],
          "parcoords": [
           {
            "line": {
             "colorbar": {
              "outlinewidth": 0,
              "ticks": ""
             }
            },
            "type": "parcoords"
           }
          ],
          "pie": [
           {
            "automargin": true,
            "type": "pie"
           }
          ],
          "scatter": [
           {
            "fillpattern": {
             "fillmode": "overlay",
             "size": 10,
             "solidity": 0.2
            },
            "type": "scatter"
           }
          ],
          "scatter3d": [
           {
            "line": {
             "colorbar": {
              "outlinewidth": 0,
              "ticks": ""
             }
            },
            "marker": {
             "colorbar": {
              "outlinewidth": 0,
              "ticks": ""
             }
            },
            "type": "scatter3d"
           }
          ],
          "scattercarpet": [
           {
            "marker": {
             "colorbar": {
              "outlinewidth": 0,
              "ticks": ""
             }
            },
            "type": "scattercarpet"
           }
          ],
          "scattergeo": [
           {
            "marker": {
             "colorbar": {
              "outlinewidth": 0,
              "ticks": ""
             }
            },
            "type": "scattergeo"
           }
          ],
          "scattergl": [
           {
            "marker": {
             "colorbar": {
              "outlinewidth": 0,
              "ticks": ""
             }
            },
            "type": "scattergl"
           }
          ],
          "scattermapbox": [
           {
            "marker": {
             "colorbar": {
              "outlinewidth": 0,
              "ticks": ""
             }
            },
            "type": "scattermapbox"
           }
          ],
          "scatterpolar": [
           {
            "marker": {
             "colorbar": {
              "outlinewidth": 0,
              "ticks": ""
             }
            },
            "type": "scatterpolar"
           }
          ],
          "scatterpolargl": [
           {
            "marker": {
             "colorbar": {
              "outlinewidth": 0,
              "ticks": ""
             }
            },
            "type": "scatterpolargl"
           }
          ],
          "scatterternary": [
           {
            "marker": {
             "colorbar": {
              "outlinewidth": 0,
              "ticks": ""
             }
            },
            "type": "scatterternary"
           }
          ],
          "surface": [
           {
            "colorbar": {
             "outlinewidth": 0,
             "ticks": ""
            },
            "colorscale": [
             [
              0,
              "#0d0887"
             ],
             [
              0.1111111111111111,
              "#46039f"
             ],
             [
              0.2222222222222222,
              "#7201a8"
             ],
             [
              0.3333333333333333,
              "#9c179e"
             ],
             [
              0.4444444444444444,
              "#bd3786"
             ],
             [
              0.5555555555555556,
              "#d8576b"
             ],
             [
              0.6666666666666666,
              "#ed7953"
             ],
             [
              0.7777777777777778,
              "#fb9f3a"
             ],
             [
              0.8888888888888888,
              "#fdca26"
             ],
             [
              1,
              "#f0f921"
             ]
            ],
            "type": "surface"
           }
          ],
          "table": [
           {
            "cells": {
             "fill": {
              "color": "#EBF0F8"
             },
             "line": {
              "color": "white"
             }
            },
            "header": {
             "fill": {
              "color": "#C8D4E3"
             },
             "line": {
              "color": "white"
             }
            },
            "type": "table"
           }
          ]
         },
         "layout": {
          "annotationdefaults": {
           "arrowcolor": "#2a3f5f",
           "arrowhead": 0,
           "arrowwidth": 1
          },
          "autotypenumbers": "strict",
          "coloraxis": {
           "colorbar": {
            "outlinewidth": 0,
            "ticks": ""
           }
          },
          "colorscale": {
           "diverging": [
            [
             0,
             "#8e0152"
            ],
            [
             0.1,
             "#c51b7d"
            ],
            [
             0.2,
             "#de77ae"
            ],
            [
             0.3,
             "#f1b6da"
            ],
            [
             0.4,
             "#fde0ef"
            ],
            [
             0.5,
             "#f7f7f7"
            ],
            [
             0.6,
             "#e6f5d0"
            ],
            [
             0.7,
             "#b8e186"
            ],
            [
             0.8,
             "#7fbc41"
            ],
            [
             0.9,
             "#4d9221"
            ],
            [
             1,
             "#276419"
            ]
           ],
           "sequential": [
            [
             0,
             "#0d0887"
            ],
            [
             0.1111111111111111,
             "#46039f"
            ],
            [
             0.2222222222222222,
             "#7201a8"
            ],
            [
             0.3333333333333333,
             "#9c179e"
            ],
            [
             0.4444444444444444,
             "#bd3786"
            ],
            [
             0.5555555555555556,
             "#d8576b"
            ],
            [
             0.6666666666666666,
             "#ed7953"
            ],
            [
             0.7777777777777778,
             "#fb9f3a"
            ],
            [
             0.8888888888888888,
             "#fdca26"
            ],
            [
             1,
             "#f0f921"
            ]
           ],
           "sequentialminus": [
            [
             0,
             "#0d0887"
            ],
            [
             0.1111111111111111,
             "#46039f"
            ],
            [
             0.2222222222222222,
             "#7201a8"
            ],
            [
             0.3333333333333333,
             "#9c179e"
            ],
            [
             0.4444444444444444,
             "#bd3786"
            ],
            [
             0.5555555555555556,
             "#d8576b"
            ],
            [
             0.6666666666666666,
             "#ed7953"
            ],
            [
             0.7777777777777778,
             "#fb9f3a"
            ],
            [
             0.8888888888888888,
             "#fdca26"
            ],
            [
             1,
             "#f0f921"
            ]
           ]
          },
          "colorway": [
           "#636efa",
           "#EF553B",
           "#00cc96",
           "#ab63fa",
           "#FFA15A",
           "#19d3f3",
           "#FF6692",
           "#B6E880",
           "#FF97FF",
           "#FECB52"
          ],
          "font": {
           "color": "#2a3f5f"
          },
          "geo": {
           "bgcolor": "white",
           "lakecolor": "white",
           "landcolor": "#E5ECF6",
           "showlakes": true,
           "showland": true,
           "subunitcolor": "white"
          },
          "hoverlabel": {
           "align": "left"
          },
          "hovermode": "closest",
          "mapbox": {
           "style": "light"
          },
          "paper_bgcolor": "white",
          "plot_bgcolor": "#E5ECF6",
          "polar": {
           "angularaxis": {
            "gridcolor": "white",
            "linecolor": "white",
            "ticks": ""
           },
           "bgcolor": "#E5ECF6",
           "radialaxis": {
            "gridcolor": "white",
            "linecolor": "white",
            "ticks": ""
           }
          },
          "scene": {
           "xaxis": {
            "backgroundcolor": "#E5ECF6",
            "gridcolor": "white",
            "gridwidth": 2,
            "linecolor": "white",
            "showbackground": true,
            "ticks": "",
            "zerolinecolor": "white"
           },
           "yaxis": {
            "backgroundcolor": "#E5ECF6",
            "gridcolor": "white",
            "gridwidth": 2,
            "linecolor": "white",
            "showbackground": true,
            "ticks": "",
            "zerolinecolor": "white"
           },
           "zaxis": {
            "backgroundcolor": "#E5ECF6",
            "gridcolor": "white",
            "gridwidth": 2,
            "linecolor": "white",
            "showbackground": true,
            "ticks": "",
            "zerolinecolor": "white"
           }
          },
          "shapedefaults": {
           "line": {
            "color": "#2a3f5f"
           }
          },
          "ternary": {
           "aaxis": {
            "gridcolor": "white",
            "linecolor": "white",
            "ticks": ""
           },
           "baxis": {
            "gridcolor": "white",
            "linecolor": "white",
            "ticks": ""
           },
           "bgcolor": "#E5ECF6",
           "caxis": {
            "gridcolor": "white",
            "linecolor": "white",
            "ticks": ""
           }
          },
          "title": {
           "x": 0.05
          },
          "xaxis": {
           "automargin": true,
           "gridcolor": "white",
           "linecolor": "white",
           "ticks": "",
           "title": {
            "standoff": 15
           },
           "zerolinecolor": "white",
           "zerolinewidth": 2
          },
          "yaxis": {
           "automargin": true,
           "gridcolor": "white",
           "linecolor": "white",
           "ticks": "",
           "title": {
            "standoff": 15
           },
           "zerolinecolor": "white",
           "zerolinewidth": 2
          }
         }
        },
        "title": {
         "text": "500 meters around center."
        },
        "width": 850
       }
      },
      "text/html": [
       "<div>                            <div id=\"5e781d15-cdab-410a-b099-4a7d71abf1e8\" class=\"plotly-graph-div\" style=\"height:850px; width:850px;\"></div>            <script type=\"text/javascript\">                require([\"plotly\"], function(Plotly) {                    window.PLOTLYENV=window.PLOTLYENV || {};                                    if (document.getElementById(\"5e781d15-cdab-410a-b099-4a7d71abf1e8\")) {                    Plotly.newPlot(                        \"5e781d15-cdab-410a-b099-4a7d71abf1e8\",                        [{\"hoverinfo\":\"text\",\"lat\":[19.4326],\"lon\":[-99.1332],\"marker\":{\"color\":\"red\",\"size\":9},\"mode\":\"markers\",\"text\":\"Place of interest\",\"type\":\"scattermapbox\"}],                        {\"template\":{\"data\":{\"histogram2dcontour\":[{\"type\":\"histogram2dcontour\",\"colorbar\":{\"outlinewidth\":0,\"ticks\":\"\"},\"colorscale\":[[0.0,\"#0d0887\"],[0.1111111111111111,\"#46039f\"],[0.2222222222222222,\"#7201a8\"],[0.3333333333333333,\"#9c179e\"],[0.4444444444444444,\"#bd3786\"],[0.5555555555555556,\"#d8576b\"],[0.6666666666666666,\"#ed7953\"],[0.7777777777777778,\"#fb9f3a\"],[0.8888888888888888,\"#fdca26\"],[1.0,\"#f0f921\"]]}],\"choropleth\":[{\"type\":\"choropleth\",\"colorbar\":{\"outlinewidth\":0,\"ticks\":\"\"}}],\"histogram2d\":[{\"type\":\"histogram2d\",\"colorbar\":{\"outlinewidth\":0,\"ticks\":\"\"},\"colorscale\":[[0.0,\"#0d0887\"],[0.1111111111111111,\"#46039f\"],[0.2222222222222222,\"#7201a8\"],[0.3333333333333333,\"#9c179e\"],[0.4444444444444444,\"#bd3786\"],[0.5555555555555556,\"#d8576b\"],[0.6666666666666666,\"#ed7953\"],[0.7777777777777778,\"#fb9f3a\"],[0.8888888888888888,\"#fdca26\"],[1.0,\"#f0f921\"]]}],\"heatmap\":[{\"type\":\"heatmap\",\"colorbar\":{\"outlinewidth\":0,\"ticks\":\"\"},\"colorscale\":[[0.0,\"#0d0887\"],[0.1111111111111111,\"#46039f\"],[0.2222222222222222,\"#7201a8\"],[0.3333333333333333,\"#9c179e\"],[0.4444444444444444,\"#bd3786\"],[0.5555555555555556,\"#d8576b\"],[0.6666666666666666,\"#ed7953\"],[0.7777777777777778,\"#fb9f3a\"],[0.8888888888888888,\"#fdca26\"],[1.0,\"#f0f921\"]]}],\"heatmapgl\":[{\"type\":\"heatmapgl\",\"colorbar\":{\"outlinewidth\":0,\"ticks\":\"\"},\"colorscale\":[[0.0,\"#0d0887\"],[0.1111111111111111,\"#46039f\"],[0.2222222222222222,\"#7201a8\"],[0.3333333333333333,\"#9c179e\"],[0.4444444444444444,\"#bd3786\"],[0.5555555555555556,\"#d8576b\"],[0.6666666666666666,\"#ed7953\"],[0.7777777777777778,\"#fb9f3a\"],[0.8888888888888888,\"#fdca26\"],[1.0,\"#f0f921\"]]}],\"contourcarpet\":[{\"type\":\"contourcarpet\",\"colorbar\":{\"outlinewidth\":0,\"ticks\":\"\"}}],\"contour\":[{\"type\":\"contour\",\"colorbar\":{\"outlinewidth\":0,\"ticks\":\"\"},\"colorscale\":[[0.0,\"#0d0887\"],[0.1111111111111111,\"#46039f\"],[0.2222222222222222,\"#7201a8\"],[0.3333333333333333,\"#9c179e\"],[0.4444444444444444,\"#bd3786\"],[0.5555555555555556,\"#d8576b\"],[0.6666666666666666,\"#ed7953\"],[0.7777777777777778,\"#fb9f3a\"],[0.8888888888888888,\"#fdca26\"],[1.0,\"#f0f921\"]]}],\"surface\":[{\"type\":\"surface\",\"colorbar\":{\"outlinewidth\":0,\"ticks\":\"\"},\"colorscale\":[[0.0,\"#0d0887\"],[0.1111111111111111,\"#46039f\"],[0.2222222222222222,\"#7201a8\"],[0.3333333333333333,\"#9c179e\"],[0.4444444444444444,\"#bd3786\"],[0.5555555555555556,\"#d8576b\"],[0.6666666666666666,\"#ed7953\"],[0.7777777777777778,\"#fb9f3a\"],[0.8888888888888888,\"#fdca26\"],[1.0,\"#f0f921\"]]}],\"mesh3d\":[{\"type\":\"mesh3d\",\"colorbar\":{\"outlinewidth\":0,\"ticks\":\"\"}}],\"scatter\":[{\"fillpattern\":{\"fillmode\":\"overlay\",\"size\":10,\"solidity\":0.2},\"type\":\"scatter\"}],\"parcoords\":[{\"type\":\"parcoords\",\"line\":{\"colorbar\":{\"outlinewidth\":0,\"ticks\":\"\"}}}],\"scatterpolargl\":[{\"type\":\"scatterpolargl\",\"marker\":{\"colorbar\":{\"outlinewidth\":0,\"ticks\":\"\"}}}],\"bar\":[{\"error_x\":{\"color\":\"#2a3f5f\"},\"error_y\":{\"color\":\"#2a3f5f\"},\"marker\":{\"line\":{\"color\":\"#E5ECF6\",\"width\":0.5},\"pattern\":{\"fillmode\":\"overlay\",\"size\":10,\"solidity\":0.2}},\"type\":\"bar\"}],\"scattergeo\":[{\"type\":\"scattergeo\",\"marker\":{\"colorbar\":{\"outlinewidth\":0,\"ticks\":\"\"}}}],\"scatterpolar\":[{\"type\":\"scatterpolar\",\"marker\":{\"colorbar\":{\"outlinewidth\":0,\"ticks\":\"\"}}}],\"histogram\":[{\"marker\":{\"pattern\":{\"fillmode\":\"overlay\",\"size\":10,\"solidity\":0.2}},\"type\":\"histogram\"}],\"scattergl\":[{\"type\":\"scattergl\",\"marker\":{\"colorbar\":{\"outlinewidth\":0,\"ticks\":\"\"}}}],\"scatter3d\":[{\"type\":\"scatter3d\",\"line\":{\"colorbar\":{\"outlinewidth\":0,\"ticks\":\"\"}},\"marker\":{\"colorbar\":{\"outlinewidth\":0,\"ticks\":\"\"}}}],\"scattermapbox\":[{\"type\":\"scattermapbox\",\"marker\":{\"colorbar\":{\"outlinewidth\":0,\"ticks\":\"\"}}}],\"scatterternary\":[{\"type\":\"scatterternary\",\"marker\":{\"colorbar\":{\"outlinewidth\":0,\"ticks\":\"\"}}}],\"scattercarpet\":[{\"type\":\"scattercarpet\",\"marker\":{\"colorbar\":{\"outlinewidth\":0,\"ticks\":\"\"}}}],\"carpet\":[{\"aaxis\":{\"endlinecolor\":\"#2a3f5f\",\"gridcolor\":\"white\",\"linecolor\":\"white\",\"minorgridcolor\":\"white\",\"startlinecolor\":\"#2a3f5f\"},\"baxis\":{\"endlinecolor\":\"#2a3f5f\",\"gridcolor\":\"white\",\"linecolor\":\"white\",\"minorgridcolor\":\"white\",\"startlinecolor\":\"#2a3f5f\"},\"type\":\"carpet\"}],\"table\":[{\"cells\":{\"fill\":{\"color\":\"#EBF0F8\"},\"line\":{\"color\":\"white\"}},\"header\":{\"fill\":{\"color\":\"#C8D4E3\"},\"line\":{\"color\":\"white\"}},\"type\":\"table\"}],\"barpolar\":[{\"marker\":{\"line\":{\"color\":\"#E5ECF6\",\"width\":0.5},\"pattern\":{\"fillmode\":\"overlay\",\"size\":10,\"solidity\":0.2}},\"type\":\"barpolar\"}],\"pie\":[{\"automargin\":true,\"type\":\"pie\"}]},\"layout\":{\"autotypenumbers\":\"strict\",\"colorway\":[\"#636efa\",\"#EF553B\",\"#00cc96\",\"#ab63fa\",\"#FFA15A\",\"#19d3f3\",\"#FF6692\",\"#B6E880\",\"#FF97FF\",\"#FECB52\"],\"font\":{\"color\":\"#2a3f5f\"},\"hovermode\":\"closest\",\"hoverlabel\":{\"align\":\"left\"},\"paper_bgcolor\":\"white\",\"plot_bgcolor\":\"#E5ECF6\",\"polar\":{\"bgcolor\":\"#E5ECF6\",\"angularaxis\":{\"gridcolor\":\"white\",\"linecolor\":\"white\",\"ticks\":\"\"},\"radialaxis\":{\"gridcolor\":\"white\",\"linecolor\":\"white\",\"ticks\":\"\"}},\"ternary\":{\"bgcolor\":\"#E5ECF6\",\"aaxis\":{\"gridcolor\":\"white\",\"linecolor\":\"white\",\"ticks\":\"\"},\"baxis\":{\"gridcolor\":\"white\",\"linecolor\":\"white\",\"ticks\":\"\"},\"caxis\":{\"gridcolor\":\"white\",\"linecolor\":\"white\",\"ticks\":\"\"}},\"coloraxis\":{\"colorbar\":{\"outlinewidth\":0,\"ticks\":\"\"}},\"colorscale\":{\"sequential\":[[0.0,\"#0d0887\"],[0.1111111111111111,\"#46039f\"],[0.2222222222222222,\"#7201a8\"],[0.3333333333333333,\"#9c179e\"],[0.4444444444444444,\"#bd3786\"],[0.5555555555555556,\"#d8576b\"],[0.6666666666666666,\"#ed7953\"],[0.7777777777777778,\"#fb9f3a\"],[0.8888888888888888,\"#fdca26\"],[1.0,\"#f0f921\"]],\"sequentialminus\":[[0.0,\"#0d0887\"],[0.1111111111111111,\"#46039f\"],[0.2222222222222222,\"#7201a8\"],[0.3333333333333333,\"#9c179e\"],[0.4444444444444444,\"#bd3786\"],[0.5555555555555556,\"#d8576b\"],[0.6666666666666666,\"#ed7953\"],[0.7777777777777778,\"#fb9f3a\"],[0.8888888888888888,\"#fdca26\"],[1.0,\"#f0f921\"]],\"diverging\":[[0,\"#8e0152\"],[0.1,\"#c51b7d\"],[0.2,\"#de77ae\"],[0.3,\"#f1b6da\"],[0.4,\"#fde0ef\"],[0.5,\"#f7f7f7\"],[0.6,\"#e6f5d0\"],[0.7,\"#b8e186\"],[0.8,\"#7fbc41\"],[0.9,\"#4d9221\"],[1,\"#276419\"]]},\"xaxis\":{\"gridcolor\":\"white\",\"linecolor\":\"white\",\"ticks\":\"\",\"title\":{\"standoff\":15},\"zerolinecolor\":\"white\",\"automargin\":true,\"zerolinewidth\":2},\"yaxis\":{\"gridcolor\":\"white\",\"linecolor\":\"white\",\"ticks\":\"\",\"title\":{\"standoff\":15},\"zerolinecolor\":\"white\",\"automargin\":true,\"zerolinewidth\":2},\"scene\":{\"xaxis\":{\"backgroundcolor\":\"#E5ECF6\",\"gridcolor\":\"white\",\"linecolor\":\"white\",\"showbackground\":true,\"ticks\":\"\",\"zerolinecolor\":\"white\",\"gridwidth\":2},\"yaxis\":{\"backgroundcolor\":\"#E5ECF6\",\"gridcolor\":\"white\",\"linecolor\":\"white\",\"showbackground\":true,\"ticks\":\"\",\"zerolinecolor\":\"white\",\"gridwidth\":2},\"zaxis\":{\"backgroundcolor\":\"#E5ECF6\",\"gridcolor\":\"white\",\"linecolor\":\"white\",\"showbackground\":true,\"ticks\":\"\",\"zerolinecolor\":\"white\",\"gridwidth\":2}},\"shapedefaults\":{\"line\":{\"color\":\"#2a3f5f\"}},\"annotationdefaults\":{\"arrowcolor\":\"#2a3f5f\",\"arrowhead\":0,\"arrowwidth\":1},\"geo\":{\"bgcolor\":\"white\",\"landcolor\":\"#E5ECF6\",\"subunitcolor\":\"white\",\"showland\":true,\"showlakes\":true,\"lakecolor\":\"white\"},\"title\":{\"x\":0.05},\"mapbox\":{\"style\":\"light\"}}},\"title\":{\"text\":\"500 meters around center.\"},\"mapbox\":{\"center\":{\"lat\":19.4326,\"lon\":-99.1332},\"accesstoken\":\"pk.eyJ1Ijoiam9yZGlzb2QiLCJhIjoiY2x4OWxhZmNrMWE5djJscHpqOXN6cWNzaiJ9.A3pg2qG6O_DJj15BUybhiQ\",\"layers\":[{\"color\":\"red\",\"line\":{\"width\":1.5},\"source\":{\"type\":\"Feature\",\"geometry\":{\"type\":\"LineString\",\"coordinates\":[[-99.1332,19.437096601818624],[-99.1328975717303,19.437087548453956],[-99.13259636133333,19.437060424817673],[-99.13229758177627,19.437015340136103],[-99.1320024362349,19.436952475964215],[-99.1317121132474,19.43687208545431],[-99.13142778192699,19.436774492336372],[-99.13115058725288,19.436660089614048],[-99.13088164545876,19.436529337981735],[-99.13062203953692,19.436382763968904],[-99.13037281487645,19.43622095781937],[-99.13013497505318,19.43604457111389],[-99.12990947778792,19.43585431414577],[-99.12969723108976,19.435650953060016],[-99.12949908959962,19.435435306767566],[-99.12931585114896,19.43520824364709],[-99.12914825354738,19.434970678047538],[-99.12899697161227,19.434723566605662],[-99.12886261445203,19.434467904393276],[-99.12874572301432,19.434204720909772],[-99.12864676790885,19.43393507593609],[-99.12856614751345,19.433660055266806],[-99.12850418637134,19.433380766337557],[-99.12846113388562,19.433098333765358],[-99.12843716331653,19.43281389481992],[-99.12843237108531,19.432528594843994],[-99.12844677638766,19.43224358264139],[-99.12848032111793,19.43196000585112],[-99.12853287010482,19.431679006326338],[-99.12860421165719,19.431401715536634],[-99.12869405841803,19.431129250012333],[-99.12880204852294,19.430862706848917],[-99.12892774705865,19.43060315928987],[-99.12907064781537,19.43035165240561],[-99.12923017532627,19.430109198885933],[-99.12940568718554,19.42987677496291],[-99.12959647663583,19.429655316480652],[-99.12980177541469,19.429445715127684],[-99.13002075684845,19.4292488148472],[-99.13025253918094,19.42906540843957],[-99.1304961891241,19.428896234370768],[-99.13075072561558,19.428741973799585],[-99.13101512376873,19.428603247835586],[-99.13128831899878,19.428480615038804],[-99.13156921130864,19.428374569171268],[-99.13185666971721,19.428285537209394],[-99.13214953681228,19.428213877625243],[-99.13244663340966,19.428159878943525],[-99.13274676329996,19.428123758580163],[-99.13304871806383,19.428105661967155],[-99.13335128193616,19.428105661967155],[-99.13365323670003,19.428123758580163],[-99.13395336659033,19.428159878943525],[-99.13425046318771,19.428213877625243],[-99.13454333028278,19.428285537209394],[-99.13483078869135,19.428374569171268],[-99.13511168100122,19.428480615038804],[-99.13538487623126,19.428603247835586],[-99.13564927438442,19.428741973799585],[-99.1359038108759,19.428896234370768],[-99.13614746081905,19.42906540843957],[-99.13637924315155,19.4292488148472],[-99.1365982245853,19.429445715127684],[-99.13680352336418,19.429655316480652],[-99.13699431281447,19.42987677496291],[-99.13716982467372,19.430109198885933],[-99.13732935218462,19.43035165240561],[-99.13747225294134,19.43060315928987],[-99.13759795147705,19.430862706848917],[-99.13770594158197,19.431129250012333],[-99.1377957883428,19.431401715536634],[-99.13786712989518,19.431679006326338],[-99.13791967888206,19.43196000585112],[-99.13795322361233,19.43224358264139],[-99.13796762891468,19.432528594843994],[-99.13796283668347,19.43281389481992],[-99.13793886611437,19.433098333765358],[-99.13789581362865,19.433380766337557],[-99.13783385248655,19.433660055266806],[-99.13775323209116,19.43393507593609],[-99.13765427698569,19.434204720909772],[-99.13753738554797,19.434467904393276],[-99.13740302838772,19.434723566605662],[-99.1372517464526,19.434970678047538],[-99.13708414885105,19.43520824364709],[-99.13690091040039,19.435435306767566],[-99.13670276891023,19.435650953060016],[-99.13649052221207,19.43585431414577],[-99.13626502494681,19.43604457111389],[-99.13602718512354,19.43622095781937],[-99.13577796046309,19.436382763968904],[-99.13551835454125,19.436529337981735],[-99.13524941274711,19.436660089614048],[-99.134972218073,19.436774492336372],[-99.13468788675259,19.43687208545431],[-99.13439756376509,19.436952475964215],[-99.13410241822373,19.437015340136103],[-99.13380363866666,19.437060424817673],[-99.1335024282697,19.437087548453956],[-99.1332,19.437096601818624]]}},\"sourcetype\":\"geojson\",\"type\":\"line\"}],\"bearing\":0,\"pitch\":0,\"zoom\":15,\"style\":\"outdoors\"},\"width\":850,\"height\":850},                        {\"responsive\": true}                    ).then(function(){\n",
       "                            \n",
       "var gd = document.getElementById('5e781d15-cdab-410a-b099-4a7d71abf1e8');\n",
       "var x = new MutationObserver(function (mutations, observer) {{\n",
       "        var display = window.getComputedStyle(gd).display;\n",
       "        if (!display || display === 'none') {{\n",
       "            console.log([gd, 'removed!']);\n",
       "            Plotly.purge(gd);\n",
       "            observer.disconnect();\n",
       "        }}\n",
       "}});\n",
       "\n",
       "// Listen for the removal of the full notebook cells\n",
       "var notebookContainer = gd.closest('#notebook-container');\n",
       "if (notebookContainer) {{\n",
       "    x.observe(notebookContainer, {childList: true});\n",
       "}}\n",
       "\n",
       "// Listen for the clearing of the current output cell\n",
       "var outputEl = gd.closest('.output');\n",
       "if (outputEl) {{\n",
       "    x.observe(outputEl, {childList: true});\n",
       "}}\n",
       "\n",
       "                        })                };                });            </script>        </div>"
      ]
     },
     "metadata": {},
     "output_type": "display_data"
    }
   ],
   "source": [
    "layers=[dict(sourcetype = 'geojson',\n",
    "             source={ \"type\": \"Feature\",\n",
    "                     \"geometry\": {\"type\": \"LineString\",\n",
    "                                  \"coordinates\": coords\n",
    "                                  }\n",
    "                    },\n",
    "             color=   'red',\n",
    "             type = 'line',   \n",
    "             line=dict(width=1.5)\n",
    "            )]\n",
    "\n",
    "fig.update_layout(\n",
    "    title_text= f\"{int(R*1000)} meters around center.\",\n",
    "    width=850,\n",
    "    height=850,\n",
    "    mapbox=dict(\n",
    "        accesstoken=mapbox_access_token,\n",
    "        layers=layers,\n",
    "        bearing=0,\n",
    "        center=dict(\n",
    "            lat=center_lat,\n",
    "            lon=center_lon, \n",
    "        ),\n",
    "        pitch=0,\n",
    "        zoom=15,\n",
    "        style='outdoors')\n",
    "   )"
   ]
  },
  {
   "cell_type": "markdown",
   "id": "5975ddd1",
   "metadata": {},
   "source": [
    "**And now we will try to color this circle.**\n",
    "\n",
    "Code above this already works."
   ]
  },
  {
   "cell_type": "code",
   "execution_count": 17,
   "id": "731015ff",
   "metadata": {
    "scrolled": true
   },
   "outputs": [
    {
     "data": {
      "application/vnd.plotly.v1+json": {
       "config": {
        "plotlyServerURL": "https://plot.ly"
       },
       "data": [
        {
         "hoverinfo": "text",
         "lat": [
          19.4326
         ],
         "lon": [
          -99.1332
         ],
         "marker": {
          "color": "red",
          "size": 9
         },
         "mode": "markers",
         "text": "Place of interest",
         "type": "scattermapbox"
        }
       ],
       "layout": {
        "height": 850,
        "mapbox": {
         "accesstoken": "pk.eyJ1Ijoiam9yZGlzb2QiLCJhIjoiY2x4OWxhZmNrMWE5djJscHpqOXN6cWNzaiJ9.A3pg2qG6O_DJj15BUybhiQ",
         "bearing": 0,
         "center": {
          "lat": 19.4326,
          "lon": -99.1332
         },
         "layers": [
          {
           "color": "cyan",
           "line": {
            "width": 1.5
           },
           "source": {
            "geometry": {
             "coordinates": [
              [
               -99.1332,
               19.437096601818624
              ],
              [
               -99.1328975717303,
               19.437087548453956
              ],
              [
               -99.13259636133333,
               19.437060424817673
              ],
              [
               -99.13229758177627,
               19.437015340136103
              ],
              [
               -99.1320024362349,
               19.436952475964215
              ],
              [
               -99.1317121132474,
               19.43687208545431
              ],
              [
               -99.13142778192699,
               19.436774492336372
              ],
              [
               -99.13115058725288,
               19.436660089614048
              ],
              [
               -99.13088164545876,
               19.436529337981735
              ],
              [
               -99.13062203953692,
               19.436382763968904
              ],
              [
               -99.13037281487645,
               19.43622095781937
              ],
              [
               -99.13013497505318,
               19.43604457111389
              ],
              [
               -99.12990947778792,
               19.43585431414577
              ],
              [
               -99.12969723108976,
               19.435650953060016
              ],
              [
               -99.12949908959962,
               19.435435306767566
              ],
              [
               -99.12931585114896,
               19.43520824364709
              ],
              [
               -99.12914825354738,
               19.434970678047538
              ],
              [
               -99.12899697161227,
               19.434723566605662
              ],
              [
               -99.12886261445203,
               19.434467904393276
              ],
              [
               -99.12874572301432,
               19.434204720909772
              ],
              [
               -99.12864676790885,
               19.43393507593609
              ],
              [
               -99.12856614751345,
               19.433660055266806
              ],
              [
               -99.12850418637134,
               19.433380766337557
              ],
              [
               -99.12846113388562,
               19.433098333765358
              ],
              [
               -99.12843716331653,
               19.43281389481992
              ],
              [
               -99.12843237108531,
               19.432528594843994
              ],
              [
               -99.12844677638766,
               19.43224358264139
              ],
              [
               -99.12848032111793,
               19.43196000585112
              ],
              [
               -99.12853287010482,
               19.431679006326338
              ],
              [
               -99.12860421165719,
               19.431401715536634
              ],
              [
               -99.12869405841803,
               19.431129250012333
              ],
              [
               -99.12880204852294,
               19.430862706848917
              ],
              [
               -99.12892774705865,
               19.43060315928987
              ],
              [
               -99.12907064781537,
               19.43035165240561
              ],
              [
               -99.12923017532627,
               19.430109198885933
              ],
              [
               -99.12940568718554,
               19.42987677496291
              ],
              [
               -99.12959647663583,
               19.429655316480652
              ],
              [
               -99.12980177541469,
               19.429445715127684
              ],
              [
               -99.13002075684845,
               19.4292488148472
              ],
              [
               -99.13025253918094,
               19.42906540843957
              ],
              [
               -99.1304961891241,
               19.428896234370768
              ],
              [
               -99.13075072561558,
               19.428741973799585
              ],
              [
               -99.13101512376873,
               19.428603247835586
              ],
              [
               -99.13128831899878,
               19.428480615038804
              ],
              [
               -99.13156921130864,
               19.428374569171268
              ],
              [
               -99.13185666971721,
               19.428285537209394
              ],
              [
               -99.13214953681228,
               19.428213877625243
              ],
              [
               -99.13244663340966,
               19.428159878943525
              ],
              [
               -99.13274676329996,
               19.428123758580163
              ],
              [
               -99.13304871806383,
               19.428105661967155
              ],
              [
               -99.13335128193616,
               19.428105661967155
              ],
              [
               -99.13365323670003,
               19.428123758580163
              ],
              [
               -99.13395336659033,
               19.428159878943525
              ],
              [
               -99.13425046318771,
               19.428213877625243
              ],
              [
               -99.13454333028278,
               19.428285537209394
              ],
              [
               -99.13483078869135,
               19.428374569171268
              ],
              [
               -99.13511168100122,
               19.428480615038804
              ],
              [
               -99.13538487623126,
               19.428603247835586
              ],
              [
               -99.13564927438442,
               19.428741973799585
              ],
              [
               -99.1359038108759,
               19.428896234370768
              ],
              [
               -99.13614746081905,
               19.42906540843957
              ],
              [
               -99.13637924315155,
               19.4292488148472
              ],
              [
               -99.1365982245853,
               19.429445715127684
              ],
              [
               -99.13680352336418,
               19.429655316480652
              ],
              [
               -99.13699431281447,
               19.42987677496291
              ],
              [
               -99.13716982467372,
               19.430109198885933
              ],
              [
               -99.13732935218462,
               19.43035165240561
              ],
              [
               -99.13747225294134,
               19.43060315928987
              ],
              [
               -99.13759795147705,
               19.430862706848917
              ],
              [
               -99.13770594158197,
               19.431129250012333
              ],
              [
               -99.1377957883428,
               19.431401715536634
              ],
              [
               -99.13786712989518,
               19.431679006326338
              ],
              [
               -99.13791967888206,
               19.43196000585112
              ],
              [
               -99.13795322361233,
               19.43224358264139
              ],
              [
               -99.13796762891468,
               19.432528594843994
              ],
              [
               -99.13796283668347,
               19.43281389481992
              ],
              [
               -99.13793886611437,
               19.433098333765358
              ],
              [
               -99.13789581362865,
               19.433380766337557
              ],
              [
               -99.13783385248655,
               19.433660055266806
              ],
              [
               -99.13775323209116,
               19.43393507593609
              ],
              [
               -99.13765427698569,
               19.434204720909772
              ],
              [
               -99.13753738554797,
               19.434467904393276
              ],
              [
               -99.13740302838772,
               19.434723566605662
              ],
              [
               -99.1372517464526,
               19.434970678047538
              ],
              [
               -99.13708414885105,
               19.43520824364709
              ],
              [
               -99.13690091040039,
               19.435435306767566
              ],
              [
               -99.13670276891023,
               19.435650953060016
              ],
              [
               -99.13649052221207,
               19.43585431414577
              ],
              [
               -99.13626502494681,
               19.43604457111389
              ],
              [
               -99.13602718512354,
               19.43622095781937
              ],
              [
               -99.13577796046309,
               19.436382763968904
              ],
              [
               -99.13551835454125,
               19.436529337981735
              ],
              [
               -99.13524941274711,
               19.436660089614048
              ],
              [
               -99.134972218073,
               19.436774492336372
              ],
              [
               -99.13468788675259,
               19.43687208545431
              ],
              [
               -99.13439756376509,
               19.436952475964215
              ],
              [
               -99.13410241822373,
               19.437015340136103
              ],
              [
               -99.13380363866666,
               19.437060424817673
              ],
              [
               -99.1335024282697,
               19.437087548453956
              ],
              [
               -99.1332,
               19.437096601818624
              ]
             ],
             "type": "Polygon"
            },
            "type": "Feature"
           },
           "sourcetype": "geojson",
           "type": "fill"
          }
         ],
         "pitch": 0,
         "style": "outdoors",
         "zoom": 15
        },
        "template": {
         "data": {
          "bar": [
           {
            "error_x": {
             "color": "#2a3f5f"
            },
            "error_y": {
             "color": "#2a3f5f"
            },
            "marker": {
             "line": {
              "color": "#E5ECF6",
              "width": 0.5
             },
             "pattern": {
              "fillmode": "overlay",
              "size": 10,
              "solidity": 0.2
             }
            },
            "type": "bar"
           }
          ],
          "barpolar": [
           {
            "marker": {
             "line": {
              "color": "#E5ECF6",
              "width": 0.5
             },
             "pattern": {
              "fillmode": "overlay",
              "size": 10,
              "solidity": 0.2
             }
            },
            "type": "barpolar"
           }
          ],
          "carpet": [
           {
            "aaxis": {
             "endlinecolor": "#2a3f5f",
             "gridcolor": "white",
             "linecolor": "white",
             "minorgridcolor": "white",
             "startlinecolor": "#2a3f5f"
            },
            "baxis": {
             "endlinecolor": "#2a3f5f",
             "gridcolor": "white",
             "linecolor": "white",
             "minorgridcolor": "white",
             "startlinecolor": "#2a3f5f"
            },
            "type": "carpet"
           }
          ],
          "choropleth": [
           {
            "colorbar": {
             "outlinewidth": 0,
             "ticks": ""
            },
            "type": "choropleth"
           }
          ],
          "contour": [
           {
            "colorbar": {
             "outlinewidth": 0,
             "ticks": ""
            },
            "colorscale": [
             [
              0,
              "#0d0887"
             ],
             [
              0.1111111111111111,
              "#46039f"
             ],
             [
              0.2222222222222222,
              "#7201a8"
             ],
             [
              0.3333333333333333,
              "#9c179e"
             ],
             [
              0.4444444444444444,
              "#bd3786"
             ],
             [
              0.5555555555555556,
              "#d8576b"
             ],
             [
              0.6666666666666666,
              "#ed7953"
             ],
             [
              0.7777777777777778,
              "#fb9f3a"
             ],
             [
              0.8888888888888888,
              "#fdca26"
             ],
             [
              1,
              "#f0f921"
             ]
            ],
            "type": "contour"
           }
          ],
          "contourcarpet": [
           {
            "colorbar": {
             "outlinewidth": 0,
             "ticks": ""
            },
            "type": "contourcarpet"
           }
          ],
          "heatmap": [
           {
            "colorbar": {
             "outlinewidth": 0,
             "ticks": ""
            },
            "colorscale": [
             [
              0,
              "#0d0887"
             ],
             [
              0.1111111111111111,
              "#46039f"
             ],
             [
              0.2222222222222222,
              "#7201a8"
             ],
             [
              0.3333333333333333,
              "#9c179e"
             ],
             [
              0.4444444444444444,
              "#bd3786"
             ],
             [
              0.5555555555555556,
              "#d8576b"
             ],
             [
              0.6666666666666666,
              "#ed7953"
             ],
             [
              0.7777777777777778,
              "#fb9f3a"
             ],
             [
              0.8888888888888888,
              "#fdca26"
             ],
             [
              1,
              "#f0f921"
             ]
            ],
            "type": "heatmap"
           }
          ],
          "heatmapgl": [
           {
            "colorbar": {
             "outlinewidth": 0,
             "ticks": ""
            },
            "colorscale": [
             [
              0,
              "#0d0887"
             ],
             [
              0.1111111111111111,
              "#46039f"
             ],
             [
              0.2222222222222222,
              "#7201a8"
             ],
             [
              0.3333333333333333,
              "#9c179e"
             ],
             [
              0.4444444444444444,
              "#bd3786"
             ],
             [
              0.5555555555555556,
              "#d8576b"
             ],
             [
              0.6666666666666666,
              "#ed7953"
             ],
             [
              0.7777777777777778,
              "#fb9f3a"
             ],
             [
              0.8888888888888888,
              "#fdca26"
             ],
             [
              1,
              "#f0f921"
             ]
            ],
            "type": "heatmapgl"
           }
          ],
          "histogram": [
           {
            "marker": {
             "pattern": {
              "fillmode": "overlay",
              "size": 10,
              "solidity": 0.2
             }
            },
            "type": "histogram"
           }
          ],
          "histogram2d": [
           {
            "colorbar": {
             "outlinewidth": 0,
             "ticks": ""
            },
            "colorscale": [
             [
              0,
              "#0d0887"
             ],
             [
              0.1111111111111111,
              "#46039f"
             ],
             [
              0.2222222222222222,
              "#7201a8"
             ],
             [
              0.3333333333333333,
              "#9c179e"
             ],
             [
              0.4444444444444444,
              "#bd3786"
             ],
             [
              0.5555555555555556,
              "#d8576b"
             ],
             [
              0.6666666666666666,
              "#ed7953"
             ],
             [
              0.7777777777777778,
              "#fb9f3a"
             ],
             [
              0.8888888888888888,
              "#fdca26"
             ],
             [
              1,
              "#f0f921"
             ]
            ],
            "type": "histogram2d"
           }
          ],
          "histogram2dcontour": [
           {
            "colorbar": {
             "outlinewidth": 0,
             "ticks": ""
            },
            "colorscale": [
             [
              0,
              "#0d0887"
             ],
             [
              0.1111111111111111,
              "#46039f"
             ],
             [
              0.2222222222222222,
              "#7201a8"
             ],
             [
              0.3333333333333333,
              "#9c179e"
             ],
             [
              0.4444444444444444,
              "#bd3786"
             ],
             [
              0.5555555555555556,
              "#d8576b"
             ],
             [
              0.6666666666666666,
              "#ed7953"
             ],
             [
              0.7777777777777778,
              "#fb9f3a"
             ],
             [
              0.8888888888888888,
              "#fdca26"
             ],
             [
              1,
              "#f0f921"
             ]
            ],
            "type": "histogram2dcontour"
           }
          ],
          "mesh3d": [
           {
            "colorbar": {
             "outlinewidth": 0,
             "ticks": ""
            },
            "type": "mesh3d"
           }
          ],
          "parcoords": [
           {
            "line": {
             "colorbar": {
              "outlinewidth": 0,
              "ticks": ""
             }
            },
            "type": "parcoords"
           }
          ],
          "pie": [
           {
            "automargin": true,
            "type": "pie"
           }
          ],
          "scatter": [
           {
            "fillpattern": {
             "fillmode": "overlay",
             "size": 10,
             "solidity": 0.2
            },
            "type": "scatter"
           }
          ],
          "scatter3d": [
           {
            "line": {
             "colorbar": {
              "outlinewidth": 0,
              "ticks": ""
             }
            },
            "marker": {
             "colorbar": {
              "outlinewidth": 0,
              "ticks": ""
             }
            },
            "type": "scatter3d"
           }
          ],
          "scattercarpet": [
           {
            "marker": {
             "colorbar": {
              "outlinewidth": 0,
              "ticks": ""
             }
            },
            "type": "scattercarpet"
           }
          ],
          "scattergeo": [
           {
            "marker": {
             "colorbar": {
              "outlinewidth": 0,
              "ticks": ""
             }
            },
            "type": "scattergeo"
           }
          ],
          "scattergl": [
           {
            "marker": {
             "colorbar": {
              "outlinewidth": 0,
              "ticks": ""
             }
            },
            "type": "scattergl"
           }
          ],
          "scattermapbox": [
           {
            "marker": {
             "colorbar": {
              "outlinewidth": 0,
              "ticks": ""
             }
            },
            "type": "scattermapbox"
           }
          ],
          "scatterpolar": [
           {
            "marker": {
             "colorbar": {
              "outlinewidth": 0,
              "ticks": ""
             }
            },
            "type": "scatterpolar"
           }
          ],
          "scatterpolargl": [
           {
            "marker": {
             "colorbar": {
              "outlinewidth": 0,
              "ticks": ""
             }
            },
            "type": "scatterpolargl"
           }
          ],
          "scatterternary": [
           {
            "marker": {
             "colorbar": {
              "outlinewidth": 0,
              "ticks": ""
             }
            },
            "type": "scatterternary"
           }
          ],
          "surface": [
           {
            "colorbar": {
             "outlinewidth": 0,
             "ticks": ""
            },
            "colorscale": [
             [
              0,
              "#0d0887"
             ],
             [
              0.1111111111111111,
              "#46039f"
             ],
             [
              0.2222222222222222,
              "#7201a8"
             ],
             [
              0.3333333333333333,
              "#9c179e"
             ],
             [
              0.4444444444444444,
              "#bd3786"
             ],
             [
              0.5555555555555556,
              "#d8576b"
             ],
             [
              0.6666666666666666,
              "#ed7953"
             ],
             [
              0.7777777777777778,
              "#fb9f3a"
             ],
             [
              0.8888888888888888,
              "#fdca26"
             ],
             [
              1,
              "#f0f921"
             ]
            ],
            "type": "surface"
           }
          ],
          "table": [
           {
            "cells": {
             "fill": {
              "color": "#EBF0F8"
             },
             "line": {
              "color": "white"
             }
            },
            "header": {
             "fill": {
              "color": "#C8D4E3"
             },
             "line": {
              "color": "white"
             }
            },
            "type": "table"
           }
          ]
         },
         "layout": {
          "annotationdefaults": {
           "arrowcolor": "#2a3f5f",
           "arrowhead": 0,
           "arrowwidth": 1
          },
          "autotypenumbers": "strict",
          "coloraxis": {
           "colorbar": {
            "outlinewidth": 0,
            "ticks": ""
           }
          },
          "colorscale": {
           "diverging": [
            [
             0,
             "#8e0152"
            ],
            [
             0.1,
             "#c51b7d"
            ],
            [
             0.2,
             "#de77ae"
            ],
            [
             0.3,
             "#f1b6da"
            ],
            [
             0.4,
             "#fde0ef"
            ],
            [
             0.5,
             "#f7f7f7"
            ],
            [
             0.6,
             "#e6f5d0"
            ],
            [
             0.7,
             "#b8e186"
            ],
            [
             0.8,
             "#7fbc41"
            ],
            [
             0.9,
             "#4d9221"
            ],
            [
             1,
             "#276419"
            ]
           ],
           "sequential": [
            [
             0,
             "#0d0887"
            ],
            [
             0.1111111111111111,
             "#46039f"
            ],
            [
             0.2222222222222222,
             "#7201a8"
            ],
            [
             0.3333333333333333,
             "#9c179e"
            ],
            [
             0.4444444444444444,
             "#bd3786"
            ],
            [
             0.5555555555555556,
             "#d8576b"
            ],
            [
             0.6666666666666666,
             "#ed7953"
            ],
            [
             0.7777777777777778,
             "#fb9f3a"
            ],
            [
             0.8888888888888888,
             "#fdca26"
            ],
            [
             1,
             "#f0f921"
            ]
           ],
           "sequentialminus": [
            [
             0,
             "#0d0887"
            ],
            [
             0.1111111111111111,
             "#46039f"
            ],
            [
             0.2222222222222222,
             "#7201a8"
            ],
            [
             0.3333333333333333,
             "#9c179e"
            ],
            [
             0.4444444444444444,
             "#bd3786"
            ],
            [
             0.5555555555555556,
             "#d8576b"
            ],
            [
             0.6666666666666666,
             "#ed7953"
            ],
            [
             0.7777777777777778,
             "#fb9f3a"
            ],
            [
             0.8888888888888888,
             "#fdca26"
            ],
            [
             1,
             "#f0f921"
            ]
           ]
          },
          "colorway": [
           "#636efa",
           "#EF553B",
           "#00cc96",
           "#ab63fa",
           "#FFA15A",
           "#19d3f3",
           "#FF6692",
           "#B6E880",
           "#FF97FF",
           "#FECB52"
          ],
          "font": {
           "color": "#2a3f5f"
          },
          "geo": {
           "bgcolor": "white",
           "lakecolor": "white",
           "landcolor": "#E5ECF6",
           "showlakes": true,
           "showland": true,
           "subunitcolor": "white"
          },
          "hoverlabel": {
           "align": "left"
          },
          "hovermode": "closest",
          "mapbox": {
           "style": "light"
          },
          "paper_bgcolor": "white",
          "plot_bgcolor": "#E5ECF6",
          "polar": {
           "angularaxis": {
            "gridcolor": "white",
            "linecolor": "white",
            "ticks": ""
           },
           "bgcolor": "#E5ECF6",
           "radialaxis": {
            "gridcolor": "white",
            "linecolor": "white",
            "ticks": ""
           }
          },
          "scene": {
           "xaxis": {
            "backgroundcolor": "#E5ECF6",
            "gridcolor": "white",
            "gridwidth": 2,
            "linecolor": "white",
            "showbackground": true,
            "ticks": "",
            "zerolinecolor": "white"
           },
           "yaxis": {
            "backgroundcolor": "#E5ECF6",
            "gridcolor": "white",
            "gridwidth": 2,
            "linecolor": "white",
            "showbackground": true,
            "ticks": "",
            "zerolinecolor": "white"
           },
           "zaxis": {
            "backgroundcolor": "#E5ECF6",
            "gridcolor": "white",
            "gridwidth": 2,
            "linecolor": "white",
            "showbackground": true,
            "ticks": "",
            "zerolinecolor": "white"
           }
          },
          "shapedefaults": {
           "line": {
            "color": "#2a3f5f"
           }
          },
          "ternary": {
           "aaxis": {
            "gridcolor": "white",
            "linecolor": "white",
            "ticks": ""
           },
           "baxis": {
            "gridcolor": "white",
            "linecolor": "white",
            "ticks": ""
           },
           "bgcolor": "#E5ECF6",
           "caxis": {
            "gridcolor": "white",
            "linecolor": "white",
            "ticks": ""
           }
          },
          "title": {
           "x": 0.05
          },
          "xaxis": {
           "automargin": true,
           "gridcolor": "white",
           "linecolor": "white",
           "ticks": "",
           "title": {
            "standoff": 15
           },
           "zerolinecolor": "white",
           "zerolinewidth": 2
          },
          "yaxis": {
           "automargin": true,
           "gridcolor": "white",
           "linecolor": "white",
           "ticks": "",
           "title": {
            "standoff": 15
           },
           "zerolinecolor": "white",
           "zerolinewidth": 2
          }
         }
        },
        "title": {
         "text": "500 meters around center."
        },
        "width": 850
       }
      },
      "text/html": [
       "<div>                            <div id=\"a0986595-92dd-4ece-b164-a34b309b5fec\" class=\"plotly-graph-div\" style=\"height:850px; width:850px;\"></div>            <script type=\"text/javascript\">                require([\"plotly\"], function(Plotly) {                    window.PLOTLYENV=window.PLOTLYENV || {};                                    if (document.getElementById(\"a0986595-92dd-4ece-b164-a34b309b5fec\")) {                    Plotly.newPlot(                        \"a0986595-92dd-4ece-b164-a34b309b5fec\",                        [{\"hoverinfo\":\"text\",\"lat\":[19.4326],\"lon\":[-99.1332],\"marker\":{\"color\":\"red\",\"size\":9},\"mode\":\"markers\",\"text\":\"Place of interest\",\"type\":\"scattermapbox\"}],                        {\"template\":{\"data\":{\"histogram2dcontour\":[{\"type\":\"histogram2dcontour\",\"colorbar\":{\"outlinewidth\":0,\"ticks\":\"\"},\"colorscale\":[[0.0,\"#0d0887\"],[0.1111111111111111,\"#46039f\"],[0.2222222222222222,\"#7201a8\"],[0.3333333333333333,\"#9c179e\"],[0.4444444444444444,\"#bd3786\"],[0.5555555555555556,\"#d8576b\"],[0.6666666666666666,\"#ed7953\"],[0.7777777777777778,\"#fb9f3a\"],[0.8888888888888888,\"#fdca26\"],[1.0,\"#f0f921\"]]}],\"choropleth\":[{\"type\":\"choropleth\",\"colorbar\":{\"outlinewidth\":0,\"ticks\":\"\"}}],\"histogram2d\":[{\"type\":\"histogram2d\",\"colorbar\":{\"outlinewidth\":0,\"ticks\":\"\"},\"colorscale\":[[0.0,\"#0d0887\"],[0.1111111111111111,\"#46039f\"],[0.2222222222222222,\"#7201a8\"],[0.3333333333333333,\"#9c179e\"],[0.4444444444444444,\"#bd3786\"],[0.5555555555555556,\"#d8576b\"],[0.6666666666666666,\"#ed7953\"],[0.7777777777777778,\"#fb9f3a\"],[0.8888888888888888,\"#fdca26\"],[1.0,\"#f0f921\"]]}],\"heatmap\":[{\"type\":\"heatmap\",\"colorbar\":{\"outlinewidth\":0,\"ticks\":\"\"},\"colorscale\":[[0.0,\"#0d0887\"],[0.1111111111111111,\"#46039f\"],[0.2222222222222222,\"#7201a8\"],[0.3333333333333333,\"#9c179e\"],[0.4444444444444444,\"#bd3786\"],[0.5555555555555556,\"#d8576b\"],[0.6666666666666666,\"#ed7953\"],[0.7777777777777778,\"#fb9f3a\"],[0.8888888888888888,\"#fdca26\"],[1.0,\"#f0f921\"]]}],\"heatmapgl\":[{\"type\":\"heatmapgl\",\"colorbar\":{\"outlinewidth\":0,\"ticks\":\"\"},\"colorscale\":[[0.0,\"#0d0887\"],[0.1111111111111111,\"#46039f\"],[0.2222222222222222,\"#7201a8\"],[0.3333333333333333,\"#9c179e\"],[0.4444444444444444,\"#bd3786\"],[0.5555555555555556,\"#d8576b\"],[0.6666666666666666,\"#ed7953\"],[0.7777777777777778,\"#fb9f3a\"],[0.8888888888888888,\"#fdca26\"],[1.0,\"#f0f921\"]]}],\"contourcarpet\":[{\"type\":\"contourcarpet\",\"colorbar\":{\"outlinewidth\":0,\"ticks\":\"\"}}],\"contour\":[{\"type\":\"contour\",\"colorbar\":{\"outlinewidth\":0,\"ticks\":\"\"},\"colorscale\":[[0.0,\"#0d0887\"],[0.1111111111111111,\"#46039f\"],[0.2222222222222222,\"#7201a8\"],[0.3333333333333333,\"#9c179e\"],[0.4444444444444444,\"#bd3786\"],[0.5555555555555556,\"#d8576b\"],[0.6666666666666666,\"#ed7953\"],[0.7777777777777778,\"#fb9f3a\"],[0.8888888888888888,\"#fdca26\"],[1.0,\"#f0f921\"]]}],\"surface\":[{\"type\":\"surface\",\"colorbar\":{\"outlinewidth\":0,\"ticks\":\"\"},\"colorscale\":[[0.0,\"#0d0887\"],[0.1111111111111111,\"#46039f\"],[0.2222222222222222,\"#7201a8\"],[0.3333333333333333,\"#9c179e\"],[0.4444444444444444,\"#bd3786\"],[0.5555555555555556,\"#d8576b\"],[0.6666666666666666,\"#ed7953\"],[0.7777777777777778,\"#fb9f3a\"],[0.8888888888888888,\"#fdca26\"],[1.0,\"#f0f921\"]]}],\"mesh3d\":[{\"type\":\"mesh3d\",\"colorbar\":{\"outlinewidth\":0,\"ticks\":\"\"}}],\"scatter\":[{\"fillpattern\":{\"fillmode\":\"overlay\",\"size\":10,\"solidity\":0.2},\"type\":\"scatter\"}],\"parcoords\":[{\"type\":\"parcoords\",\"line\":{\"colorbar\":{\"outlinewidth\":0,\"ticks\":\"\"}}}],\"scatterpolargl\":[{\"type\":\"scatterpolargl\",\"marker\":{\"colorbar\":{\"outlinewidth\":0,\"ticks\":\"\"}}}],\"bar\":[{\"error_x\":{\"color\":\"#2a3f5f\"},\"error_y\":{\"color\":\"#2a3f5f\"},\"marker\":{\"line\":{\"color\":\"#E5ECF6\",\"width\":0.5},\"pattern\":{\"fillmode\":\"overlay\",\"size\":10,\"solidity\":0.2}},\"type\":\"bar\"}],\"scattergeo\":[{\"type\":\"scattergeo\",\"marker\":{\"colorbar\":{\"outlinewidth\":0,\"ticks\":\"\"}}}],\"scatterpolar\":[{\"type\":\"scatterpolar\",\"marker\":{\"colorbar\":{\"outlinewidth\":0,\"ticks\":\"\"}}}],\"histogram\":[{\"marker\":{\"pattern\":{\"fillmode\":\"overlay\",\"size\":10,\"solidity\":0.2}},\"type\":\"histogram\"}],\"scattergl\":[{\"type\":\"scattergl\",\"marker\":{\"colorbar\":{\"outlinewidth\":0,\"ticks\":\"\"}}}],\"scatter3d\":[{\"type\":\"scatter3d\",\"line\":{\"colorbar\":{\"outlinewidth\":0,\"ticks\":\"\"}},\"marker\":{\"colorbar\":{\"outlinewidth\":0,\"ticks\":\"\"}}}],\"scattermapbox\":[{\"type\":\"scattermapbox\",\"marker\":{\"colorbar\":{\"outlinewidth\":0,\"ticks\":\"\"}}}],\"scatterternary\":[{\"type\":\"scatterternary\",\"marker\":{\"colorbar\":{\"outlinewidth\":0,\"ticks\":\"\"}}}],\"scattercarpet\":[{\"type\":\"scattercarpet\",\"marker\":{\"colorbar\":{\"outlinewidth\":0,\"ticks\":\"\"}}}],\"carpet\":[{\"aaxis\":{\"endlinecolor\":\"#2a3f5f\",\"gridcolor\":\"white\",\"linecolor\":\"white\",\"minorgridcolor\":\"white\",\"startlinecolor\":\"#2a3f5f\"},\"baxis\":{\"endlinecolor\":\"#2a3f5f\",\"gridcolor\":\"white\",\"linecolor\":\"white\",\"minorgridcolor\":\"white\",\"startlinecolor\":\"#2a3f5f\"},\"type\":\"carpet\"}],\"table\":[{\"cells\":{\"fill\":{\"color\":\"#EBF0F8\"},\"line\":{\"color\":\"white\"}},\"header\":{\"fill\":{\"color\":\"#C8D4E3\"},\"line\":{\"color\":\"white\"}},\"type\":\"table\"}],\"barpolar\":[{\"marker\":{\"line\":{\"color\":\"#E5ECF6\",\"width\":0.5},\"pattern\":{\"fillmode\":\"overlay\",\"size\":10,\"solidity\":0.2}},\"type\":\"barpolar\"}],\"pie\":[{\"automargin\":true,\"type\":\"pie\"}]},\"layout\":{\"autotypenumbers\":\"strict\",\"colorway\":[\"#636efa\",\"#EF553B\",\"#00cc96\",\"#ab63fa\",\"#FFA15A\",\"#19d3f3\",\"#FF6692\",\"#B6E880\",\"#FF97FF\",\"#FECB52\"],\"font\":{\"color\":\"#2a3f5f\"},\"hovermode\":\"closest\",\"hoverlabel\":{\"align\":\"left\"},\"paper_bgcolor\":\"white\",\"plot_bgcolor\":\"#E5ECF6\",\"polar\":{\"bgcolor\":\"#E5ECF6\",\"angularaxis\":{\"gridcolor\":\"white\",\"linecolor\":\"white\",\"ticks\":\"\"},\"radialaxis\":{\"gridcolor\":\"white\",\"linecolor\":\"white\",\"ticks\":\"\"}},\"ternary\":{\"bgcolor\":\"#E5ECF6\",\"aaxis\":{\"gridcolor\":\"white\",\"linecolor\":\"white\",\"ticks\":\"\"},\"baxis\":{\"gridcolor\":\"white\",\"linecolor\":\"white\",\"ticks\":\"\"},\"caxis\":{\"gridcolor\":\"white\",\"linecolor\":\"white\",\"ticks\":\"\"}},\"coloraxis\":{\"colorbar\":{\"outlinewidth\":0,\"ticks\":\"\"}},\"colorscale\":{\"sequential\":[[0.0,\"#0d0887\"],[0.1111111111111111,\"#46039f\"],[0.2222222222222222,\"#7201a8\"],[0.3333333333333333,\"#9c179e\"],[0.4444444444444444,\"#bd3786\"],[0.5555555555555556,\"#d8576b\"],[0.6666666666666666,\"#ed7953\"],[0.7777777777777778,\"#fb9f3a\"],[0.8888888888888888,\"#fdca26\"],[1.0,\"#f0f921\"]],\"sequentialminus\":[[0.0,\"#0d0887\"],[0.1111111111111111,\"#46039f\"],[0.2222222222222222,\"#7201a8\"],[0.3333333333333333,\"#9c179e\"],[0.4444444444444444,\"#bd3786\"],[0.5555555555555556,\"#d8576b\"],[0.6666666666666666,\"#ed7953\"],[0.7777777777777778,\"#fb9f3a\"],[0.8888888888888888,\"#fdca26\"],[1.0,\"#f0f921\"]],\"diverging\":[[0,\"#8e0152\"],[0.1,\"#c51b7d\"],[0.2,\"#de77ae\"],[0.3,\"#f1b6da\"],[0.4,\"#fde0ef\"],[0.5,\"#f7f7f7\"],[0.6,\"#e6f5d0\"],[0.7,\"#b8e186\"],[0.8,\"#7fbc41\"],[0.9,\"#4d9221\"],[1,\"#276419\"]]},\"xaxis\":{\"gridcolor\":\"white\",\"linecolor\":\"white\",\"ticks\":\"\",\"title\":{\"standoff\":15},\"zerolinecolor\":\"white\",\"automargin\":true,\"zerolinewidth\":2},\"yaxis\":{\"gridcolor\":\"white\",\"linecolor\":\"white\",\"ticks\":\"\",\"title\":{\"standoff\":15},\"zerolinecolor\":\"white\",\"automargin\":true,\"zerolinewidth\":2},\"scene\":{\"xaxis\":{\"backgroundcolor\":\"#E5ECF6\",\"gridcolor\":\"white\",\"linecolor\":\"white\",\"showbackground\":true,\"ticks\":\"\",\"zerolinecolor\":\"white\",\"gridwidth\":2},\"yaxis\":{\"backgroundcolor\":\"#E5ECF6\",\"gridcolor\":\"white\",\"linecolor\":\"white\",\"showbackground\":true,\"ticks\":\"\",\"zerolinecolor\":\"white\",\"gridwidth\":2},\"zaxis\":{\"backgroundcolor\":\"#E5ECF6\",\"gridcolor\":\"white\",\"linecolor\":\"white\",\"showbackground\":true,\"ticks\":\"\",\"zerolinecolor\":\"white\",\"gridwidth\":2}},\"shapedefaults\":{\"line\":{\"color\":\"#2a3f5f\"}},\"annotationdefaults\":{\"arrowcolor\":\"#2a3f5f\",\"arrowhead\":0,\"arrowwidth\":1},\"geo\":{\"bgcolor\":\"white\",\"landcolor\":\"#E5ECF6\",\"subunitcolor\":\"white\",\"showland\":true,\"showlakes\":true,\"lakecolor\":\"white\"},\"title\":{\"x\":0.05},\"mapbox\":{\"style\":\"light\"}}},\"title\":{\"text\":\"500 meters around center.\"},\"mapbox\":{\"center\":{\"lat\":19.4326,\"lon\":-99.1332},\"accesstoken\":\"pk.eyJ1Ijoiam9yZGlzb2QiLCJhIjoiY2x4OWxhZmNrMWE5djJscHpqOXN6cWNzaiJ9.A3pg2qG6O_DJj15BUybhiQ\",\"layers\":[{\"color\":\"cyan\",\"line\":{\"width\":1.5},\"source\":{\"type\":\"Feature\",\"geometry\":{\"type\":\"Polygon\",\"coordinates\":[[-99.1332,19.437096601818624],[-99.1328975717303,19.437087548453956],[-99.13259636133333,19.437060424817673],[-99.13229758177627,19.437015340136103],[-99.1320024362349,19.436952475964215],[-99.1317121132474,19.43687208545431],[-99.13142778192699,19.436774492336372],[-99.13115058725288,19.436660089614048],[-99.13088164545876,19.436529337981735],[-99.13062203953692,19.436382763968904],[-99.13037281487645,19.43622095781937],[-99.13013497505318,19.43604457111389],[-99.12990947778792,19.43585431414577],[-99.12969723108976,19.435650953060016],[-99.12949908959962,19.435435306767566],[-99.12931585114896,19.43520824364709],[-99.12914825354738,19.434970678047538],[-99.12899697161227,19.434723566605662],[-99.12886261445203,19.434467904393276],[-99.12874572301432,19.434204720909772],[-99.12864676790885,19.43393507593609],[-99.12856614751345,19.433660055266806],[-99.12850418637134,19.433380766337557],[-99.12846113388562,19.433098333765358],[-99.12843716331653,19.43281389481992],[-99.12843237108531,19.432528594843994],[-99.12844677638766,19.43224358264139],[-99.12848032111793,19.43196000585112],[-99.12853287010482,19.431679006326338],[-99.12860421165719,19.431401715536634],[-99.12869405841803,19.431129250012333],[-99.12880204852294,19.430862706848917],[-99.12892774705865,19.43060315928987],[-99.12907064781537,19.43035165240561],[-99.12923017532627,19.430109198885933],[-99.12940568718554,19.42987677496291],[-99.12959647663583,19.429655316480652],[-99.12980177541469,19.429445715127684],[-99.13002075684845,19.4292488148472],[-99.13025253918094,19.42906540843957],[-99.1304961891241,19.428896234370768],[-99.13075072561558,19.428741973799585],[-99.13101512376873,19.428603247835586],[-99.13128831899878,19.428480615038804],[-99.13156921130864,19.428374569171268],[-99.13185666971721,19.428285537209394],[-99.13214953681228,19.428213877625243],[-99.13244663340966,19.428159878943525],[-99.13274676329996,19.428123758580163],[-99.13304871806383,19.428105661967155],[-99.13335128193616,19.428105661967155],[-99.13365323670003,19.428123758580163],[-99.13395336659033,19.428159878943525],[-99.13425046318771,19.428213877625243],[-99.13454333028278,19.428285537209394],[-99.13483078869135,19.428374569171268],[-99.13511168100122,19.428480615038804],[-99.13538487623126,19.428603247835586],[-99.13564927438442,19.428741973799585],[-99.1359038108759,19.428896234370768],[-99.13614746081905,19.42906540843957],[-99.13637924315155,19.4292488148472],[-99.1365982245853,19.429445715127684],[-99.13680352336418,19.429655316480652],[-99.13699431281447,19.42987677496291],[-99.13716982467372,19.430109198885933],[-99.13732935218462,19.43035165240561],[-99.13747225294134,19.43060315928987],[-99.13759795147705,19.430862706848917],[-99.13770594158197,19.431129250012333],[-99.1377957883428,19.431401715536634],[-99.13786712989518,19.431679006326338],[-99.13791967888206,19.43196000585112],[-99.13795322361233,19.43224358264139],[-99.13796762891468,19.432528594843994],[-99.13796283668347,19.43281389481992],[-99.13793886611437,19.433098333765358],[-99.13789581362865,19.433380766337557],[-99.13783385248655,19.433660055266806],[-99.13775323209116,19.43393507593609],[-99.13765427698569,19.434204720909772],[-99.13753738554797,19.434467904393276],[-99.13740302838772,19.434723566605662],[-99.1372517464526,19.434970678047538],[-99.13708414885105,19.43520824364709],[-99.13690091040039,19.435435306767566],[-99.13670276891023,19.435650953060016],[-99.13649052221207,19.43585431414577],[-99.13626502494681,19.43604457111389],[-99.13602718512354,19.43622095781937],[-99.13577796046309,19.436382763968904],[-99.13551835454125,19.436529337981735],[-99.13524941274711,19.436660089614048],[-99.134972218073,19.436774492336372],[-99.13468788675259,19.43687208545431],[-99.13439756376509,19.436952475964215],[-99.13410241822373,19.437015340136103],[-99.13380363866666,19.437060424817673],[-99.1335024282697,19.437087548453956],[-99.1332,19.437096601818624]]}},\"sourcetype\":\"geojson\",\"type\":\"fill\"}],\"bearing\":0,\"pitch\":0,\"zoom\":15,\"style\":\"outdoors\"},\"width\":850,\"height\":850},                        {\"responsive\": true}                    ).then(function(){\n",
       "                            \n",
       "var gd = document.getElementById('a0986595-92dd-4ece-b164-a34b309b5fec');\n",
       "var x = new MutationObserver(function (mutations, observer) {{\n",
       "        var display = window.getComputedStyle(gd).display;\n",
       "        if (!display || display === 'none') {{\n",
       "            console.log([gd, 'removed!']);\n",
       "            Plotly.purge(gd);\n",
       "            observer.disconnect();\n",
       "        }}\n",
       "}});\n",
       "\n",
       "// Listen for the removal of the full notebook cells\n",
       "var notebookContainer = gd.closest('#notebook-container');\n",
       "if (notebookContainer) {{\n",
       "    x.observe(notebookContainer, {childList: true});\n",
       "}}\n",
       "\n",
       "// Listen for the clearing of the current output cell\n",
       "var outputEl = gd.closest('.output');\n",
       "if (outputEl) {{\n",
       "    x.observe(outputEl, {childList: true});\n",
       "}}\n",
       "\n",
       "                        })                };                });            </script>        </div>"
      ]
     },
     "metadata": {},
     "output_type": "display_data"
    }
   ],
   "source": [
    "layers=[dict(sourcetype = 'geojson',\n",
    "             source={ \"type\": \"Feature\",\n",
    "                     \"geometry\": {\"type\": \"Polygon\",\n",
    "                                  \"coordinates\": coords\n",
    "                                  }\n",
    "                    },\n",
    "             color=   'cyan',\n",
    "             type = 'fill',   \n",
    "             line=dict(width=1.5)\n",
    "            )]\n",
    "\n",
    "fig.update_layout(\n",
    "    title_text= f\"{int(R*1000)} meters around center.\",\n",
    "    width=850,\n",
    "    height=850,\n",
    "    mapbox=dict(\n",
    "        accesstoken=mapbox_access_token,\n",
    "        layers=layers,\n",
    "        bearing=0,\n",
    "        center=dict(\n",
    "            lat=center_lat,\n",
    "            lon=center_lon, \n",
    "        ),\n",
    "        pitch=0,\n",
    "        zoom=15,\n",
    "        style='outdoors')\n",
    "   )"
   ]
  },
  {
   "cell_type": "code",
   "execution_count": 18,
   "id": "c0f09952",
   "metadata": {},
   "outputs": [
    {
     "data": {
      "text/plain": [
       "[{'sourcetype': 'geojson',\n",
       "  'source': {'type': 'Feature',\n",
       "   'geometry': {'type': 'Polygon',\n",
       "    'coordinates': [[-99.1332, 19.437096601818624],\n",
       "     [-99.1328975717303, 19.437087548453956],\n",
       "     [-99.13259636133333, 19.437060424817673],\n",
       "     [-99.13229758177627, 19.437015340136103],\n",
       "     [-99.1320024362349, 19.436952475964215],\n",
       "     [-99.1317121132474, 19.43687208545431],\n",
       "     [-99.13142778192699, 19.436774492336372],\n",
       "     [-99.13115058725288, 19.436660089614048],\n",
       "     [-99.13088164545876, 19.436529337981735],\n",
       "     [-99.13062203953692, 19.436382763968904],\n",
       "     [-99.13037281487645, 19.43622095781937],\n",
       "     [-99.13013497505318, 19.43604457111389],\n",
       "     [-99.12990947778792, 19.43585431414577],\n",
       "     [-99.12969723108976, 19.435650953060016],\n",
       "     [-99.12949908959962, 19.435435306767566],\n",
       "     [-99.12931585114896, 19.43520824364709],\n",
       "     [-99.12914825354738, 19.434970678047538],\n",
       "     [-99.12899697161227, 19.434723566605662],\n",
       "     [-99.12886261445203, 19.434467904393276],\n",
       "     [-99.12874572301432, 19.434204720909772],\n",
       "     [-99.12864676790885, 19.43393507593609],\n",
       "     [-99.12856614751345, 19.433660055266806],\n",
       "     [-99.12850418637134, 19.433380766337557],\n",
       "     [-99.12846113388562, 19.433098333765358],\n",
       "     [-99.12843716331653, 19.43281389481992],\n",
       "     [-99.12843237108531, 19.432528594843994],\n",
       "     [-99.12844677638766, 19.43224358264139],\n",
       "     [-99.12848032111793, 19.43196000585112],\n",
       "     [-99.12853287010482, 19.431679006326338],\n",
       "     [-99.12860421165719, 19.431401715536634],\n",
       "     [-99.12869405841803, 19.431129250012333],\n",
       "     [-99.12880204852294, 19.430862706848917],\n",
       "     [-99.12892774705865, 19.43060315928987],\n",
       "     [-99.12907064781537, 19.43035165240561],\n",
       "     [-99.12923017532627, 19.430109198885933],\n",
       "     [-99.12940568718554, 19.42987677496291],\n",
       "     [-99.12959647663583, 19.429655316480652],\n",
       "     [-99.12980177541469, 19.429445715127684],\n",
       "     [-99.13002075684845, 19.4292488148472],\n",
       "     [-99.13025253918094, 19.42906540843957],\n",
       "     [-99.1304961891241, 19.428896234370768],\n",
       "     [-99.13075072561558, 19.428741973799585],\n",
       "     [-99.13101512376873, 19.428603247835586],\n",
       "     [-99.13128831899878, 19.428480615038804],\n",
       "     [-99.13156921130864, 19.428374569171268],\n",
       "     [-99.13185666971721, 19.428285537209394],\n",
       "     [-99.13214953681228, 19.428213877625243],\n",
       "     [-99.13244663340966, 19.428159878943525],\n",
       "     [-99.13274676329996, 19.428123758580163],\n",
       "     [-99.13304871806383, 19.428105661967155],\n",
       "     [-99.13335128193616, 19.428105661967155],\n",
       "     [-99.13365323670003, 19.428123758580163],\n",
       "     [-99.13395336659033, 19.428159878943525],\n",
       "     [-99.13425046318771, 19.428213877625243],\n",
       "     [-99.13454333028278, 19.428285537209394],\n",
       "     [-99.13483078869135, 19.428374569171268],\n",
       "     [-99.13511168100122, 19.428480615038804],\n",
       "     [-99.13538487623126, 19.428603247835586],\n",
       "     [-99.13564927438442, 19.428741973799585],\n",
       "     [-99.1359038108759, 19.428896234370768],\n",
       "     [-99.13614746081905, 19.42906540843957],\n",
       "     [-99.13637924315155, 19.4292488148472],\n",
       "     [-99.1365982245853, 19.429445715127684],\n",
       "     [-99.13680352336418, 19.429655316480652],\n",
       "     [-99.13699431281447, 19.42987677496291],\n",
       "     [-99.13716982467372, 19.430109198885933],\n",
       "     [-99.13732935218462, 19.43035165240561],\n",
       "     [-99.13747225294134, 19.43060315928987],\n",
       "     [-99.13759795147705, 19.430862706848917],\n",
       "     [-99.13770594158197, 19.431129250012333],\n",
       "     [-99.1377957883428, 19.431401715536634],\n",
       "     [-99.13786712989518, 19.431679006326338],\n",
       "     [-99.13791967888206, 19.43196000585112],\n",
       "     [-99.13795322361233, 19.43224358264139],\n",
       "     [-99.13796762891468, 19.432528594843994],\n",
       "     [-99.13796283668347, 19.43281389481992],\n",
       "     [-99.13793886611437, 19.433098333765358],\n",
       "     [-99.13789581362865, 19.433380766337557],\n",
       "     [-99.13783385248655, 19.433660055266806],\n",
       "     [-99.13775323209116, 19.43393507593609],\n",
       "     [-99.13765427698569, 19.434204720909772],\n",
       "     [-99.13753738554797, 19.434467904393276],\n",
       "     [-99.13740302838772, 19.434723566605662],\n",
       "     [-99.1372517464526, 19.434970678047538],\n",
       "     [-99.13708414885105, 19.43520824364709],\n",
       "     [-99.13690091040039, 19.435435306767566],\n",
       "     [-99.13670276891023, 19.435650953060016],\n",
       "     [-99.13649052221207, 19.43585431414577],\n",
       "     [-99.13626502494681, 19.43604457111389],\n",
       "     [-99.13602718512354, 19.43622095781937],\n",
       "     [-99.13577796046309, 19.436382763968904],\n",
       "     [-99.13551835454125, 19.436529337981735],\n",
       "     [-99.13524941274711, 19.436660089614048],\n",
       "     [-99.134972218073, 19.436774492336372],\n",
       "     [-99.13468788675259, 19.43687208545431],\n",
       "     [-99.13439756376509, 19.436952475964215],\n",
       "     [-99.13410241822373, 19.437015340136103],\n",
       "     [-99.13380363866666, 19.437060424817673],\n",
       "     [-99.1335024282697, 19.437087548453956],\n",
       "     [-99.1332, 19.437096601818624]]}},\n",
       "  'color': 'cyan',\n",
       "  'type': 'fill',\n",
       "  'line': {'width': 1.5}}]"
      ]
     },
     "execution_count": 18,
     "metadata": {},
     "output_type": "execute_result"
    }
   ],
   "source": [
    "layers"
   ]
  },
  {
   "cell_type": "code",
   "execution_count": 8,
   "id": "37a38826",
   "metadata": {},
   "outputs": [
    {
     "data": {
      "application/vnd.plotly.v1+json": {
       "config": {
        "plotlyServerURL": "https://plot.ly"
       },
       "data": [
        {
         "lat": [
          45.51
         ],
         "lon": [
          -73.605
         ],
         "marker": {
          "color": [
           "cyan"
          ],
          "size": 20
         },
         "mode": "markers",
         "type": "scattermapbox"
        }
       ],
       "layout": {
        "mapbox": {
         "center": {
          "lat": 45.5,
          "lon": -73.6
         },
         "layers": [
          {
           "below": "traces",
           "color": "royalblue",
           "source": {
            "features": [
             {
              "geometry": {
               "coordinates": [
                [
                 [
                  [
                   -73.606352888,
                   45.507489991
                  ],
                  [
                   -73.606133883,
                   45.506876
                  ],
                  [
                   -73.605905904,
                   45.50677398
                  ],
                  [
                   -73.603533905,
                   45.505698946
                  ],
                  [
                   -73.60247587,
                   45.506856969
                  ],
                  [
                   -73.600031904,
                   45.505696003
                  ],
                  [
                   -73.599379992,
                   45.505389066
                  ],
                  [
                   -73.599119902,
                   45.505632008
                  ],
                  [
                   -73.598896977,
                   45.505514039
                  ],
                  [
                   -73.598783894,
                   45.505617001
                  ],
                  [
                   -73.591308727,
                   45.516246185
                  ],
                  [
                   -73.591380782,
                   45.516280145
                  ],
                  [
                   -73.596778656,
                   45.518690062
                  ],
                  [
                   -73.60279677,
                   45.521348046
                  ],
                  [
                   -73.612239983,
                   45.525564037
                  ],
                  [
                   -73.612422919,
                   45.525642061
                  ],
                  [
                   -73.617229085,
                   45.527751983
                  ],
                  [
                   -73.617279234,
                   45.52777416
                  ],
                  [
                   -73.617304713,
                   45.527741334
                  ],
                  [
                   -73.617492052,
                   45.527498362
                  ],
                  [
                   -73.617533258,
                   45.527512253
                  ],
                  [
                   -73.618074188,
                   45.526759105
                  ],
                  [
                   -73.618271651,
                   45.526500673
                  ],
                  [
                   -73.61844632,
                   45.526287943
                  ],
                  [
                   -73.618968507,
                   45.52569856
                  ],
                  [
                   -73.619388002,
                   45.52521675
                  ],
                  [
                   -73.619532966,
                   45.525064183
                  ],
                  [
                   -73.619686662,
                   45.52488929
                  ],
                  [
                   -73.619787038,
                   45.524770086
                  ],
                  [
                   -73.619925742,
                   45.524584939
                  ],
                  [
                   -73.619954486,
                   45.52455769
                  ],
                  [
                   -73.620122362,
                   45.524377961
                  ],
                  [
                   -73.620201713,
                   45.524298907
                  ],
                  [
                   -73.620775593,
                   45.523650879
                  ]
                 ]
                ]
               ],
               "type": "MultiPolygon"
              },
              "type": "Feature"
             }
            ],
            "type": "FeatureCollection"
           },
           "type": "fill"
          }
         ],
         "style": "open-street-map",
         "zoom": 12
        },
        "margin": {
         "b": 0,
         "l": 0,
         "r": 0,
         "t": 0
        },
        "template": {
         "data": {
          "bar": [
           {
            "error_x": {
             "color": "#2a3f5f"
            },
            "error_y": {
             "color": "#2a3f5f"
            },
            "marker": {
             "line": {
              "color": "#E5ECF6",
              "width": 0.5
             },
             "pattern": {
              "fillmode": "overlay",
              "size": 10,
              "solidity": 0.2
             }
            },
            "type": "bar"
           }
          ],
          "barpolar": [
           {
            "marker": {
             "line": {
              "color": "#E5ECF6",
              "width": 0.5
             },
             "pattern": {
              "fillmode": "overlay",
              "size": 10,
              "solidity": 0.2
             }
            },
            "type": "barpolar"
           }
          ],
          "carpet": [
           {
            "aaxis": {
             "endlinecolor": "#2a3f5f",
             "gridcolor": "white",
             "linecolor": "white",
             "minorgridcolor": "white",
             "startlinecolor": "#2a3f5f"
            },
            "baxis": {
             "endlinecolor": "#2a3f5f",
             "gridcolor": "white",
             "linecolor": "white",
             "minorgridcolor": "white",
             "startlinecolor": "#2a3f5f"
            },
            "type": "carpet"
           }
          ],
          "choropleth": [
           {
            "colorbar": {
             "outlinewidth": 0,
             "ticks": ""
            },
            "type": "choropleth"
           }
          ],
          "contour": [
           {
            "colorbar": {
             "outlinewidth": 0,
             "ticks": ""
            },
            "colorscale": [
             [
              0,
              "#0d0887"
             ],
             [
              0.1111111111111111,
              "#46039f"
             ],
             [
              0.2222222222222222,
              "#7201a8"
             ],
             [
              0.3333333333333333,
              "#9c179e"
             ],
             [
              0.4444444444444444,
              "#bd3786"
             ],
             [
              0.5555555555555556,
              "#d8576b"
             ],
             [
              0.6666666666666666,
              "#ed7953"
             ],
             [
              0.7777777777777778,
              "#fb9f3a"
             ],
             [
              0.8888888888888888,
              "#fdca26"
             ],
             [
              1,
              "#f0f921"
             ]
            ],
            "type": "contour"
           }
          ],
          "contourcarpet": [
           {
            "colorbar": {
             "outlinewidth": 0,
             "ticks": ""
            },
            "type": "contourcarpet"
           }
          ],
          "heatmap": [
           {
            "colorbar": {
             "outlinewidth": 0,
             "ticks": ""
            },
            "colorscale": [
             [
              0,
              "#0d0887"
             ],
             [
              0.1111111111111111,
              "#46039f"
             ],
             [
              0.2222222222222222,
              "#7201a8"
             ],
             [
              0.3333333333333333,
              "#9c179e"
             ],
             [
              0.4444444444444444,
              "#bd3786"
             ],
             [
              0.5555555555555556,
              "#d8576b"
             ],
             [
              0.6666666666666666,
              "#ed7953"
             ],
             [
              0.7777777777777778,
              "#fb9f3a"
             ],
             [
              0.8888888888888888,
              "#fdca26"
             ],
             [
              1,
              "#f0f921"
             ]
            ],
            "type": "heatmap"
           }
          ],
          "heatmapgl": [
           {
            "colorbar": {
             "outlinewidth": 0,
             "ticks": ""
            },
            "colorscale": [
             [
              0,
              "#0d0887"
             ],
             [
              0.1111111111111111,
              "#46039f"
             ],
             [
              0.2222222222222222,
              "#7201a8"
             ],
             [
              0.3333333333333333,
              "#9c179e"
             ],
             [
              0.4444444444444444,
              "#bd3786"
             ],
             [
              0.5555555555555556,
              "#d8576b"
             ],
             [
              0.6666666666666666,
              "#ed7953"
             ],
             [
              0.7777777777777778,
              "#fb9f3a"
             ],
             [
              0.8888888888888888,
              "#fdca26"
             ],
             [
              1,
              "#f0f921"
             ]
            ],
            "type": "heatmapgl"
           }
          ],
          "histogram": [
           {
            "marker": {
             "pattern": {
              "fillmode": "overlay",
              "size": 10,
              "solidity": 0.2
             }
            },
            "type": "histogram"
           }
          ],
          "histogram2d": [
           {
            "colorbar": {
             "outlinewidth": 0,
             "ticks": ""
            },
            "colorscale": [
             [
              0,
              "#0d0887"
             ],
             [
              0.1111111111111111,
              "#46039f"
             ],
             [
              0.2222222222222222,
              "#7201a8"
             ],
             [
              0.3333333333333333,
              "#9c179e"
             ],
             [
              0.4444444444444444,
              "#bd3786"
             ],
             [
              0.5555555555555556,
              "#d8576b"
             ],
             [
              0.6666666666666666,
              "#ed7953"
             ],
             [
              0.7777777777777778,
              "#fb9f3a"
             ],
             [
              0.8888888888888888,
              "#fdca26"
             ],
             [
              1,
              "#f0f921"
             ]
            ],
            "type": "histogram2d"
           }
          ],
          "histogram2dcontour": [
           {
            "colorbar": {
             "outlinewidth": 0,
             "ticks": ""
            },
            "colorscale": [
             [
              0,
              "#0d0887"
             ],
             [
              0.1111111111111111,
              "#46039f"
             ],
             [
              0.2222222222222222,
              "#7201a8"
             ],
             [
              0.3333333333333333,
              "#9c179e"
             ],
             [
              0.4444444444444444,
              "#bd3786"
             ],
             [
              0.5555555555555556,
              "#d8576b"
             ],
             [
              0.6666666666666666,
              "#ed7953"
             ],
             [
              0.7777777777777778,
              "#fb9f3a"
             ],
             [
              0.8888888888888888,
              "#fdca26"
             ],
             [
              1,
              "#f0f921"
             ]
            ],
            "type": "histogram2dcontour"
           }
          ],
          "mesh3d": [
           {
            "colorbar": {
             "outlinewidth": 0,
             "ticks": ""
            },
            "type": "mesh3d"
           }
          ],
          "parcoords": [
           {
            "line": {
             "colorbar": {
              "outlinewidth": 0,
              "ticks": ""
             }
            },
            "type": "parcoords"
           }
          ],
          "pie": [
           {
            "automargin": true,
            "type": "pie"
           }
          ],
          "scatter": [
           {
            "fillpattern": {
             "fillmode": "overlay",
             "size": 10,
             "solidity": 0.2
            },
            "type": "scatter"
           }
          ],
          "scatter3d": [
           {
            "line": {
             "colorbar": {
              "outlinewidth": 0,
              "ticks": ""
             }
            },
            "marker": {
             "colorbar": {
              "outlinewidth": 0,
              "ticks": ""
             }
            },
            "type": "scatter3d"
           }
          ],
          "scattercarpet": [
           {
            "marker": {
             "colorbar": {
              "outlinewidth": 0,
              "ticks": ""
             }
            },
            "type": "scattercarpet"
           }
          ],
          "scattergeo": [
           {
            "marker": {
             "colorbar": {
              "outlinewidth": 0,
              "ticks": ""
             }
            },
            "type": "scattergeo"
           }
          ],
          "scattergl": [
           {
            "marker": {
             "colorbar": {
              "outlinewidth": 0,
              "ticks": ""
             }
            },
            "type": "scattergl"
           }
          ],
          "scattermapbox": [
           {
            "marker": {
             "colorbar": {
              "outlinewidth": 0,
              "ticks": ""
             }
            },
            "type": "scattermapbox"
           }
          ],
          "scatterpolar": [
           {
            "marker": {
             "colorbar": {
              "outlinewidth": 0,
              "ticks": ""
             }
            },
            "type": "scatterpolar"
           }
          ],
          "scatterpolargl": [
           {
            "marker": {
             "colorbar": {
              "outlinewidth": 0,
              "ticks": ""
             }
            },
            "type": "scatterpolargl"
           }
          ],
          "scatterternary": [
           {
            "marker": {
             "colorbar": {
              "outlinewidth": 0,
              "ticks": ""
             }
            },
            "type": "scatterternary"
           }
          ],
          "surface": [
           {
            "colorbar": {
             "outlinewidth": 0,
             "ticks": ""
            },
            "colorscale": [
             [
              0,
              "#0d0887"
             ],
             [
              0.1111111111111111,
              "#46039f"
             ],
             [
              0.2222222222222222,
              "#7201a8"
             ],
             [
              0.3333333333333333,
              "#9c179e"
             ],
             [
              0.4444444444444444,
              "#bd3786"
             ],
             [
              0.5555555555555556,
              "#d8576b"
             ],
             [
              0.6666666666666666,
              "#ed7953"
             ],
             [
              0.7777777777777778,
              "#fb9f3a"
             ],
             [
              0.8888888888888888,
              "#fdca26"
             ],
             [
              1,
              "#f0f921"
             ]
            ],
            "type": "surface"
           }
          ],
          "table": [
           {
            "cells": {
             "fill": {
              "color": "#EBF0F8"
             },
             "line": {
              "color": "white"
             }
            },
            "header": {
             "fill": {
              "color": "#C8D4E3"
             },
             "line": {
              "color": "white"
             }
            },
            "type": "table"
           }
          ]
         },
         "layout": {
          "annotationdefaults": {
           "arrowcolor": "#2a3f5f",
           "arrowhead": 0,
           "arrowwidth": 1
          },
          "autotypenumbers": "strict",
          "coloraxis": {
           "colorbar": {
            "outlinewidth": 0,
            "ticks": ""
           }
          },
          "colorscale": {
           "diverging": [
            [
             0,
             "#8e0152"
            ],
            [
             0.1,
             "#c51b7d"
            ],
            [
             0.2,
             "#de77ae"
            ],
            [
             0.3,
             "#f1b6da"
            ],
            [
             0.4,
             "#fde0ef"
            ],
            [
             0.5,
             "#f7f7f7"
            ],
            [
             0.6,
             "#e6f5d0"
            ],
            [
             0.7,
             "#b8e186"
            ],
            [
             0.8,
             "#7fbc41"
            ],
            [
             0.9,
             "#4d9221"
            ],
            [
             1,
             "#276419"
            ]
           ],
           "sequential": [
            [
             0,
             "#0d0887"
            ],
            [
             0.1111111111111111,
             "#46039f"
            ],
            [
             0.2222222222222222,
             "#7201a8"
            ],
            [
             0.3333333333333333,
             "#9c179e"
            ],
            [
             0.4444444444444444,
             "#bd3786"
            ],
            [
             0.5555555555555556,
             "#d8576b"
            ],
            [
             0.6666666666666666,
             "#ed7953"
            ],
            [
             0.7777777777777778,
             "#fb9f3a"
            ],
            [
             0.8888888888888888,
             "#fdca26"
            ],
            [
             1,
             "#f0f921"
            ]
           ],
           "sequentialminus": [
            [
             0,
             "#0d0887"
            ],
            [
             0.1111111111111111,
             "#46039f"
            ],
            [
             0.2222222222222222,
             "#7201a8"
            ],
            [
             0.3333333333333333,
             "#9c179e"
            ],
            [
             0.4444444444444444,
             "#bd3786"
            ],
            [
             0.5555555555555556,
             "#d8576b"
            ],
            [
             0.6666666666666666,
             "#ed7953"
            ],
            [
             0.7777777777777778,
             "#fb9f3a"
            ],
            [
             0.8888888888888888,
             "#fdca26"
            ],
            [
             1,
             "#f0f921"
            ]
           ]
          },
          "colorway": [
           "#636efa",
           "#EF553B",
           "#00cc96",
           "#ab63fa",
           "#FFA15A",
           "#19d3f3",
           "#FF6692",
           "#B6E880",
           "#FF97FF",
           "#FECB52"
          ],
          "font": {
           "color": "#2a3f5f"
          },
          "geo": {
           "bgcolor": "white",
           "lakecolor": "white",
           "landcolor": "#E5ECF6",
           "showlakes": true,
           "showland": true,
           "subunitcolor": "white"
          },
          "hoverlabel": {
           "align": "left"
          },
          "hovermode": "closest",
          "mapbox": {
           "style": "light"
          },
          "paper_bgcolor": "white",
          "plot_bgcolor": "#E5ECF6",
          "polar": {
           "angularaxis": {
            "gridcolor": "white",
            "linecolor": "white",
            "ticks": ""
           },
           "bgcolor": "#E5ECF6",
           "radialaxis": {
            "gridcolor": "white",
            "linecolor": "white",
            "ticks": ""
           }
          },
          "scene": {
           "xaxis": {
            "backgroundcolor": "#E5ECF6",
            "gridcolor": "white",
            "gridwidth": 2,
            "linecolor": "white",
            "showbackground": true,
            "ticks": "",
            "zerolinecolor": "white"
           },
           "yaxis": {
            "backgroundcolor": "#E5ECF6",
            "gridcolor": "white",
            "gridwidth": 2,
            "linecolor": "white",
            "showbackground": true,
            "ticks": "",
            "zerolinecolor": "white"
           },
           "zaxis": {
            "backgroundcolor": "#E5ECF6",
            "gridcolor": "white",
            "gridwidth": 2,
            "linecolor": "white",
            "showbackground": true,
            "ticks": "",
            "zerolinecolor": "white"
           }
          },
          "shapedefaults": {
           "line": {
            "color": "#2a3f5f"
           }
          },
          "ternary": {
           "aaxis": {
            "gridcolor": "white",
            "linecolor": "white",
            "ticks": ""
           },
           "baxis": {
            "gridcolor": "white",
            "linecolor": "white",
            "ticks": ""
           },
           "bgcolor": "#E5ECF6",
           "caxis": {
            "gridcolor": "white",
            "linecolor": "white",
            "ticks": ""
           }
          },
          "title": {
           "x": 0.05
          },
          "xaxis": {
           "automargin": true,
           "gridcolor": "white",
           "linecolor": "white",
           "ticks": "",
           "title": {
            "standoff": 15
           },
           "zerolinecolor": "white",
           "zerolinewidth": 2
          },
          "yaxis": {
           "automargin": true,
           "gridcolor": "white",
           "linecolor": "white",
           "ticks": "",
           "title": {
            "standoff": 15
           },
           "zerolinecolor": "white",
           "zerolinewidth": 2
          }
         }
        }
       }
      },
      "text/html": [
       "<div>                            <div id=\"07ec78ab-b328-4603-8eaf-1929eedca286\" class=\"plotly-graph-div\" style=\"height:525px; width:100%;\"></div>            <script type=\"text/javascript\">                require([\"plotly\"], function(Plotly) {                    window.PLOTLYENV=window.PLOTLYENV || {};                                    if (document.getElementById(\"07ec78ab-b328-4603-8eaf-1929eedca286\")) {                    Plotly.newPlot(                        \"07ec78ab-b328-4603-8eaf-1929eedca286\",                        [{\"lat\":[45.51],\"lon\":[-73.605],\"marker\":{\"color\":[\"cyan\"],\"size\":20},\"mode\":\"markers\",\"type\":\"scattermapbox\"}],                        {\"template\":{\"data\":{\"histogram2dcontour\":[{\"type\":\"histogram2dcontour\",\"colorbar\":{\"outlinewidth\":0,\"ticks\":\"\"},\"colorscale\":[[0.0,\"#0d0887\"],[0.1111111111111111,\"#46039f\"],[0.2222222222222222,\"#7201a8\"],[0.3333333333333333,\"#9c179e\"],[0.4444444444444444,\"#bd3786\"],[0.5555555555555556,\"#d8576b\"],[0.6666666666666666,\"#ed7953\"],[0.7777777777777778,\"#fb9f3a\"],[0.8888888888888888,\"#fdca26\"],[1.0,\"#f0f921\"]]}],\"choropleth\":[{\"type\":\"choropleth\",\"colorbar\":{\"outlinewidth\":0,\"ticks\":\"\"}}],\"histogram2d\":[{\"type\":\"histogram2d\",\"colorbar\":{\"outlinewidth\":0,\"ticks\":\"\"},\"colorscale\":[[0.0,\"#0d0887\"],[0.1111111111111111,\"#46039f\"],[0.2222222222222222,\"#7201a8\"],[0.3333333333333333,\"#9c179e\"],[0.4444444444444444,\"#bd3786\"],[0.5555555555555556,\"#d8576b\"],[0.6666666666666666,\"#ed7953\"],[0.7777777777777778,\"#fb9f3a\"],[0.8888888888888888,\"#fdca26\"],[1.0,\"#f0f921\"]]}],\"heatmap\":[{\"type\":\"heatmap\",\"colorbar\":{\"outlinewidth\":0,\"ticks\":\"\"},\"colorscale\":[[0.0,\"#0d0887\"],[0.1111111111111111,\"#46039f\"],[0.2222222222222222,\"#7201a8\"],[0.3333333333333333,\"#9c179e\"],[0.4444444444444444,\"#bd3786\"],[0.5555555555555556,\"#d8576b\"],[0.6666666666666666,\"#ed7953\"],[0.7777777777777778,\"#fb9f3a\"],[0.8888888888888888,\"#fdca26\"],[1.0,\"#f0f921\"]]}],\"heatmapgl\":[{\"type\":\"heatmapgl\",\"colorbar\":{\"outlinewidth\":0,\"ticks\":\"\"},\"colorscale\":[[0.0,\"#0d0887\"],[0.1111111111111111,\"#46039f\"],[0.2222222222222222,\"#7201a8\"],[0.3333333333333333,\"#9c179e\"],[0.4444444444444444,\"#bd3786\"],[0.5555555555555556,\"#d8576b\"],[0.6666666666666666,\"#ed7953\"],[0.7777777777777778,\"#fb9f3a\"],[0.8888888888888888,\"#fdca26\"],[1.0,\"#f0f921\"]]}],\"contourcarpet\":[{\"type\":\"contourcarpet\",\"colorbar\":{\"outlinewidth\":0,\"ticks\":\"\"}}],\"contour\":[{\"type\":\"contour\",\"colorbar\":{\"outlinewidth\":0,\"ticks\":\"\"},\"colorscale\":[[0.0,\"#0d0887\"],[0.1111111111111111,\"#46039f\"],[0.2222222222222222,\"#7201a8\"],[0.3333333333333333,\"#9c179e\"],[0.4444444444444444,\"#bd3786\"],[0.5555555555555556,\"#d8576b\"],[0.6666666666666666,\"#ed7953\"],[0.7777777777777778,\"#fb9f3a\"],[0.8888888888888888,\"#fdca26\"],[1.0,\"#f0f921\"]]}],\"surface\":[{\"type\":\"surface\",\"colorbar\":{\"outlinewidth\":0,\"ticks\":\"\"},\"colorscale\":[[0.0,\"#0d0887\"],[0.1111111111111111,\"#46039f\"],[0.2222222222222222,\"#7201a8\"],[0.3333333333333333,\"#9c179e\"],[0.4444444444444444,\"#bd3786\"],[0.5555555555555556,\"#d8576b\"],[0.6666666666666666,\"#ed7953\"],[0.7777777777777778,\"#fb9f3a\"],[0.8888888888888888,\"#fdca26\"],[1.0,\"#f0f921\"]]}],\"mesh3d\":[{\"type\":\"mesh3d\",\"colorbar\":{\"outlinewidth\":0,\"ticks\":\"\"}}],\"scatter\":[{\"fillpattern\":{\"fillmode\":\"overlay\",\"size\":10,\"solidity\":0.2},\"type\":\"scatter\"}],\"parcoords\":[{\"type\":\"parcoords\",\"line\":{\"colorbar\":{\"outlinewidth\":0,\"ticks\":\"\"}}}],\"scatterpolargl\":[{\"type\":\"scatterpolargl\",\"marker\":{\"colorbar\":{\"outlinewidth\":0,\"ticks\":\"\"}}}],\"bar\":[{\"error_x\":{\"color\":\"#2a3f5f\"},\"error_y\":{\"color\":\"#2a3f5f\"},\"marker\":{\"line\":{\"color\":\"#E5ECF6\",\"width\":0.5},\"pattern\":{\"fillmode\":\"overlay\",\"size\":10,\"solidity\":0.2}},\"type\":\"bar\"}],\"scattergeo\":[{\"type\":\"scattergeo\",\"marker\":{\"colorbar\":{\"outlinewidth\":0,\"ticks\":\"\"}}}],\"scatterpolar\":[{\"type\":\"scatterpolar\",\"marker\":{\"colorbar\":{\"outlinewidth\":0,\"ticks\":\"\"}}}],\"histogram\":[{\"marker\":{\"pattern\":{\"fillmode\":\"overlay\",\"size\":10,\"solidity\":0.2}},\"type\":\"histogram\"}],\"scattergl\":[{\"type\":\"scattergl\",\"marker\":{\"colorbar\":{\"outlinewidth\":0,\"ticks\":\"\"}}}],\"scatter3d\":[{\"type\":\"scatter3d\",\"line\":{\"colorbar\":{\"outlinewidth\":0,\"ticks\":\"\"}},\"marker\":{\"colorbar\":{\"outlinewidth\":0,\"ticks\":\"\"}}}],\"scattermapbox\":[{\"type\":\"scattermapbox\",\"marker\":{\"colorbar\":{\"outlinewidth\":0,\"ticks\":\"\"}}}],\"scatterternary\":[{\"type\":\"scatterternary\",\"marker\":{\"colorbar\":{\"outlinewidth\":0,\"ticks\":\"\"}}}],\"scattercarpet\":[{\"type\":\"scattercarpet\",\"marker\":{\"colorbar\":{\"outlinewidth\":0,\"ticks\":\"\"}}}],\"carpet\":[{\"aaxis\":{\"endlinecolor\":\"#2a3f5f\",\"gridcolor\":\"white\",\"linecolor\":\"white\",\"minorgridcolor\":\"white\",\"startlinecolor\":\"#2a3f5f\"},\"baxis\":{\"endlinecolor\":\"#2a3f5f\",\"gridcolor\":\"white\",\"linecolor\":\"white\",\"minorgridcolor\":\"white\",\"startlinecolor\":\"#2a3f5f\"},\"type\":\"carpet\"}],\"table\":[{\"cells\":{\"fill\":{\"color\":\"#EBF0F8\"},\"line\":{\"color\":\"white\"}},\"header\":{\"fill\":{\"color\":\"#C8D4E3\"},\"line\":{\"color\":\"white\"}},\"type\":\"table\"}],\"barpolar\":[{\"marker\":{\"line\":{\"color\":\"#E5ECF6\",\"width\":0.5},\"pattern\":{\"fillmode\":\"overlay\",\"size\":10,\"solidity\":0.2}},\"type\":\"barpolar\"}],\"pie\":[{\"automargin\":true,\"type\":\"pie\"}]},\"layout\":{\"autotypenumbers\":\"strict\",\"colorway\":[\"#636efa\",\"#EF553B\",\"#00cc96\",\"#ab63fa\",\"#FFA15A\",\"#19d3f3\",\"#FF6692\",\"#B6E880\",\"#FF97FF\",\"#FECB52\"],\"font\":{\"color\":\"#2a3f5f\"},\"hovermode\":\"closest\",\"hoverlabel\":{\"align\":\"left\"},\"paper_bgcolor\":\"white\",\"plot_bgcolor\":\"#E5ECF6\",\"polar\":{\"bgcolor\":\"#E5ECF6\",\"angularaxis\":{\"gridcolor\":\"white\",\"linecolor\":\"white\",\"ticks\":\"\"},\"radialaxis\":{\"gridcolor\":\"white\",\"linecolor\":\"white\",\"ticks\":\"\"}},\"ternary\":{\"bgcolor\":\"#E5ECF6\",\"aaxis\":{\"gridcolor\":\"white\",\"linecolor\":\"white\",\"ticks\":\"\"},\"baxis\":{\"gridcolor\":\"white\",\"linecolor\":\"white\",\"ticks\":\"\"},\"caxis\":{\"gridcolor\":\"white\",\"linecolor\":\"white\",\"ticks\":\"\"}},\"coloraxis\":{\"colorbar\":{\"outlinewidth\":0,\"ticks\":\"\"}},\"colorscale\":{\"sequential\":[[0.0,\"#0d0887\"],[0.1111111111111111,\"#46039f\"],[0.2222222222222222,\"#7201a8\"],[0.3333333333333333,\"#9c179e\"],[0.4444444444444444,\"#bd3786\"],[0.5555555555555556,\"#d8576b\"],[0.6666666666666666,\"#ed7953\"],[0.7777777777777778,\"#fb9f3a\"],[0.8888888888888888,\"#fdca26\"],[1.0,\"#f0f921\"]],\"sequentialminus\":[[0.0,\"#0d0887\"],[0.1111111111111111,\"#46039f\"],[0.2222222222222222,\"#7201a8\"],[0.3333333333333333,\"#9c179e\"],[0.4444444444444444,\"#bd3786\"],[0.5555555555555556,\"#d8576b\"],[0.6666666666666666,\"#ed7953\"],[0.7777777777777778,\"#fb9f3a\"],[0.8888888888888888,\"#fdca26\"],[1.0,\"#f0f921\"]],\"diverging\":[[0,\"#8e0152\"],[0.1,\"#c51b7d\"],[0.2,\"#de77ae\"],[0.3,\"#f1b6da\"],[0.4,\"#fde0ef\"],[0.5,\"#f7f7f7\"],[0.6,\"#e6f5d0\"],[0.7,\"#b8e186\"],[0.8,\"#7fbc41\"],[0.9,\"#4d9221\"],[1,\"#276419\"]]},\"xaxis\":{\"gridcolor\":\"white\",\"linecolor\":\"white\",\"ticks\":\"\",\"title\":{\"standoff\":15},\"zerolinecolor\":\"white\",\"automargin\":true,\"zerolinewidth\":2},\"yaxis\":{\"gridcolor\":\"white\",\"linecolor\":\"white\",\"ticks\":\"\",\"title\":{\"standoff\":15},\"zerolinecolor\":\"white\",\"automargin\":true,\"zerolinewidth\":2},\"scene\":{\"xaxis\":{\"backgroundcolor\":\"#E5ECF6\",\"gridcolor\":\"white\",\"linecolor\":\"white\",\"showbackground\":true,\"ticks\":\"\",\"zerolinecolor\":\"white\",\"gridwidth\":2},\"yaxis\":{\"backgroundcolor\":\"#E5ECF6\",\"gridcolor\":\"white\",\"linecolor\":\"white\",\"showbackground\":true,\"ticks\":\"\",\"zerolinecolor\":\"white\",\"gridwidth\":2},\"zaxis\":{\"backgroundcolor\":\"#E5ECF6\",\"gridcolor\":\"white\",\"linecolor\":\"white\",\"showbackground\":true,\"ticks\":\"\",\"zerolinecolor\":\"white\",\"gridwidth\":2}},\"shapedefaults\":{\"line\":{\"color\":\"#2a3f5f\"}},\"annotationdefaults\":{\"arrowcolor\":\"#2a3f5f\",\"arrowhead\":0,\"arrowwidth\":1},\"geo\":{\"bgcolor\":\"white\",\"landcolor\":\"#E5ECF6\",\"subunitcolor\":\"white\",\"showland\":true,\"showlakes\":true,\"lakecolor\":\"white\"},\"title\":{\"x\":0.05},\"mapbox\":{\"style\":\"light\"}}},\"mapbox\":{\"center\":{\"lon\":-73.6,\"lat\":45.5},\"style\":\"open-street-map\",\"zoom\":12,\"layers\":[{\"below\":\"traces\",\"color\":\"royalblue\",\"source\":{\"type\":\"FeatureCollection\",\"features\":[{\"type\":\"Feature\",\"geometry\":{\"type\":\"MultiPolygon\",\"coordinates\":[[[[-73.606352888,45.507489991],[-73.606133883,45.506876],[-73.605905904,45.50677398],[-73.603533905,45.505698946],[-73.60247587,45.506856969],[-73.600031904,45.505696003],[-73.599379992,45.505389066],[-73.599119902,45.505632008],[-73.598896977,45.505514039],[-73.598783894,45.505617001],[-73.591308727,45.516246185],[-73.591380782,45.516280145],[-73.596778656,45.518690062],[-73.60279677,45.521348046],[-73.612239983,45.525564037],[-73.612422919,45.525642061],[-73.617229085,45.527751983],[-73.617279234,45.52777416],[-73.617304713,45.527741334],[-73.617492052,45.527498362],[-73.617533258,45.527512253],[-73.618074188,45.526759105],[-73.618271651,45.526500673],[-73.61844632,45.526287943],[-73.618968507,45.52569856],[-73.619388002,45.52521675],[-73.619532966,45.525064183],[-73.619686662,45.52488929],[-73.619787038,45.524770086],[-73.619925742,45.524584939],[-73.619954486,45.52455769],[-73.620122362,45.524377961],[-73.620201713,45.524298907],[-73.620775593,45.523650879]]]]}}]},\"type\":\"fill\"}]},\"margin\":{\"l\":0,\"r\":0,\"b\":0,\"t\":0}},                        {\"responsive\": true}                    ).then(function(){\n",
       "                            \n",
       "var gd = document.getElementById('07ec78ab-b328-4603-8eaf-1929eedca286');\n",
       "var x = new MutationObserver(function (mutations, observer) {{\n",
       "        var display = window.getComputedStyle(gd).display;\n",
       "        if (!display || display === 'none') {{\n",
       "            console.log([gd, 'removed!']);\n",
       "            Plotly.purge(gd);\n",
       "            observer.disconnect();\n",
       "        }}\n",
       "}});\n",
       "\n",
       "// Listen for the removal of the full notebook cells\n",
       "var notebookContainer = gd.closest('#notebook-container');\n",
       "if (notebookContainer) {{\n",
       "    x.observe(notebookContainer, {childList: true});\n",
       "}}\n",
       "\n",
       "// Listen for the clearing of the current output cell\n",
       "var outputEl = gd.closest('.output');\n",
       "if (outputEl) {{\n",
       "    x.observe(outputEl, {childList: true});\n",
       "}}\n",
       "\n",
       "                        })                };                });            </script>        </div>"
      ]
     },
     "metadata": {},
     "output_type": "display_data"
    }
   ],
   "source": [
    "import plotly.graph_objects as go\n",
    "\n",
    "fig = go.Figure(go.Scattermapbox(\n",
    "    mode = \"markers\",\n",
    "    lon = [-73.605], lat = [45.51],\n",
    "    marker = {'size': 20, 'color': [\"cyan\"]}))\n",
    "\n",
    "fig.update_layout(\n",
    "    mapbox = {\n",
    "        'style': \"open-street-map\",\n",
    "        'center': { 'lon': -73.6, 'lat': 45.5},\n",
    "        'zoom': 12, 'layers': [{\n",
    "            'source': {\n",
    "                'type': \"FeatureCollection\",\n",
    "                'features': [{\n",
    "                    'type': \"Feature\",\n",
    "                    'geometry': {\n",
    "                        'type': \"MultiPolygon\",\n",
    "                        'coordinates': [[[\n",
    "                            [-73.606352888, 45.507489991], [-73.606133883, 45.50687600],\n",
    "                            [-73.605905904, 45.506773980], [-73.603533905, 45.505698946],\n",
    "                            [-73.602475870, 45.506856969], [-73.600031904, 45.505696003],\n",
    "                            [-73.599379992, 45.505389066], [-73.599119902, 45.505632008],\n",
    "                            [-73.598896977, 45.505514039], [-73.598783894, 45.505617001],\n",
    "                            [-73.591308727, 45.516246185], [-73.591380782, 45.516280145],\n",
    "                            [-73.596778656, 45.518690062], [-73.602796770, 45.521348046],\n",
    "                            [-73.612239983, 45.525564037], [-73.612422919, 45.525642061],\n",
    "                            [-73.617229085, 45.527751983], [-73.617279234, 45.527774160],\n",
    "                            [-73.617304713, 45.527741334], [-73.617492052, 45.527498362],\n",
    "                            [-73.617533258, 45.527512253], [-73.618074188, 45.526759105],\n",
    "                            [-73.618271651, 45.526500673], [-73.618446320, 45.526287943],\n",
    "                            [-73.618968507, 45.525698560], [-73.619388002, 45.525216750],\n",
    "                            [-73.619532966, 45.525064183], [-73.619686662, 45.524889290],\n",
    "                            [-73.619787038, 45.524770086], [-73.619925742, 45.524584939],\n",
    "                            [-73.619954486, 45.524557690], [-73.620122362, 45.524377961],\n",
    "                            [-73.620201713, 45.524298907], [-73.620775593, 45.523650879]\n",
    "                        ]]]\n",
    "                    }\n",
    "                }]\n",
    "            },\n",
    "            'type': \"fill\", 'below': \"traces\", 'color': \"royalblue\"}]},\n",
    "    margin = {'l':0, 'r':0, 'b':0, 't':0})\n",
    "\n",
    "fig.show()"
   ]
  },
  {
   "cell_type": "markdown",
   "id": "0531360f",
   "metadata": {},
   "source": [
    "https://api.mapbox.com/v4/mapbox.mapbox-streets-v8/tilequery/-99.1332,19.4326.json?radius=500&limit=1&dedupe&access_token=pk.eyJ1Ijoiam9yZGlzb2QiLCJhIjoiY2x4OWxhZmNrMWE5djJscHpqOXN6cWNzaiJ9.A3pg2qG6O_DJj15BUybhiQ"
   ]
  },
  {
   "cell_type": "code",
   "execution_count": null,
   "id": "dd6b106d",
   "metadata": {},
   "outputs": [],
   "source": []
  }
 ],
 "metadata": {
  "kernelspec": {
   "display_name": "Python 3 (ipykernel)",
   "language": "python",
   "name": "python3"
  },
  "language_info": {
   "codemirror_mode": {
    "name": "ipython",
    "version": 3
   },
   "file_extension": ".py",
   "mimetype": "text/x-python",
   "name": "python",
   "nbconvert_exporter": "python",
   "pygments_lexer": "ipython3",
   "version": "3.10.6"
  },
  "toc": {
   "base_numbering": 1,
   "nav_menu": {},
   "number_sections": true,
   "sideBar": true,
   "skip_h1_title": false,
   "title_cell": "Table of Contents",
   "title_sidebar": "Contents",
   "toc_cell": false,
   "toc_position": {},
   "toc_section_display": true,
   "toc_window_display": false
  }
 },
 "nbformat": 4,
 "nbformat_minor": 5
}
