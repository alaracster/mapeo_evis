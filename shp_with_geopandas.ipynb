{
 "cells": [
  {
   "cell_type": "code",
   "execution_count": 6,
   "id": "33f7a5d7",
   "metadata": {},
   "outputs": [],
   "source": [
    "import geopandas as gpd\n",
    "from geodatasets import get_path"
   ]
  },
  {
   "cell_type": "code",
   "execution_count": 9,
   "id": "a8067dcf",
   "metadata": {},
   "outputs": [
    {
     "data": {
      "text/html": [
       "<div>\n",
       "<style scoped>\n",
       "    .dataframe tbody tr th:only-of-type {\n",
       "        vertical-align: middle;\n",
       "    }\n",
       "\n",
       "    .dataframe tbody tr th {\n",
       "        vertical-align: top;\n",
       "    }\n",
       "\n",
       "    .dataframe thead th {\n",
       "        text-align: right;\n",
       "    }\n",
       "</style>\n",
       "<table border=\"1\" class=\"dataframe\">\n",
       "  <thead>\n",
       "    <tr style=\"text-align: right;\">\n",
       "      <th></th>\n",
       "      <th>BoroCode</th>\n",
       "      <th>BoroName</th>\n",
       "      <th>Shape_Leng</th>\n",
       "      <th>Shape_Area</th>\n",
       "      <th>geometry</th>\n",
       "    </tr>\n",
       "  </thead>\n",
       "  <tbody>\n",
       "    <tr>\n",
       "      <th>0</th>\n",
       "      <td>5</td>\n",
       "      <td>Staten Island</td>\n",
       "      <td>330470.010332</td>\n",
       "      <td>1.623820e+09</td>\n",
       "      <td>MULTIPOLYGON (((970217.022 145643.332, 970227....</td>\n",
       "    </tr>\n",
       "    <tr>\n",
       "      <th>1</th>\n",
       "      <td>4</td>\n",
       "      <td>Queens</td>\n",
       "      <td>896344.047763</td>\n",
       "      <td>3.045213e+09</td>\n",
       "      <td>MULTIPOLYGON (((1029606.077 156073.814, 102957...</td>\n",
       "    </tr>\n",
       "    <tr>\n",
       "      <th>2</th>\n",
       "      <td>3</td>\n",
       "      <td>Brooklyn</td>\n",
       "      <td>741080.523166</td>\n",
       "      <td>1.937479e+09</td>\n",
       "      <td>MULTIPOLYGON (((1021176.479 151374.797, 102100...</td>\n",
       "    </tr>\n",
       "    <tr>\n",
       "      <th>3</th>\n",
       "      <td>1</td>\n",
       "      <td>Manhattan</td>\n",
       "      <td>359299.096471</td>\n",
       "      <td>6.364715e+08</td>\n",
       "      <td>MULTIPOLYGON (((981219.056 188655.316, 980940....</td>\n",
       "    </tr>\n",
       "    <tr>\n",
       "      <th>4</th>\n",
       "      <td>2</td>\n",
       "      <td>Bronx</td>\n",
       "      <td>464392.991824</td>\n",
       "      <td>1.186925e+09</td>\n",
       "      <td>MULTIPOLYGON (((1012821.806 229228.265, 101278...</td>\n",
       "    </tr>\n",
       "  </tbody>\n",
       "</table>\n",
       "</div>"
      ],
      "text/plain": [
       "   BoroCode       BoroName     Shape_Leng    Shape_Area  \\\n",
       "0         5  Staten Island  330470.010332  1.623820e+09   \n",
       "1         4         Queens  896344.047763  3.045213e+09   \n",
       "2         3       Brooklyn  741080.523166  1.937479e+09   \n",
       "3         1      Manhattan  359299.096471  6.364715e+08   \n",
       "4         2          Bronx  464392.991824  1.186925e+09   \n",
       "\n",
       "                                            geometry  \n",
       "0  MULTIPOLYGON (((970217.022 145643.332, 970227....  \n",
       "1  MULTIPOLYGON (((1029606.077 156073.814, 102957...  \n",
       "2  MULTIPOLYGON (((1021176.479 151374.797, 102100...  \n",
       "3  MULTIPOLYGON (((981219.056 188655.316, 980940....  \n",
       "4  MULTIPOLYGON (((1012821.806 229228.265, 101278...  "
      ]
     },
     "execution_count": 9,
     "metadata": {},
     "output_type": "execute_result"
    }
   ],
   "source": [
    "path_to_data = get_path(\"nybb\")\n",
    "gdf = gpd.read_file(path_to_data)\n",
    "\n",
    "gdf"
   ]
  },
  {
   "cell_type": "code",
   "execution_count": 11,
   "id": "83f9ef6e",
   "metadata": {},
   "outputs": [],
   "source": [
    "manzana = gpd.read_file('010030001a.shp')"
   ]
  },
  {
   "cell_type": "code",
   "execution_count": 12,
   "id": "58a4f95d",
   "metadata": {},
   "outputs": [
    {
     "data": {
      "text/html": [
       "<div>\n",
       "<style scoped>\n",
       "    .dataframe tbody tr th:only-of-type {\n",
       "        vertical-align: middle;\n",
       "    }\n",
       "\n",
       "    .dataframe tbody tr th {\n",
       "        vertical-align: top;\n",
       "    }\n",
       "\n",
       "    .dataframe thead th {\n",
       "        text-align: right;\n",
       "    }\n",
       "</style>\n",
       "<table border=\"1\" class=\"dataframe\">\n",
       "  <thead>\n",
       "    <tr style=\"text-align: right;\">\n",
       "      <th></th>\n",
       "      <th>IDENTIFICA</th>\n",
       "      <th>CVEGEO</th>\n",
       "      <th>geometry</th>\n",
       "    </tr>\n",
       "  </thead>\n",
       "  <tbody>\n",
       "    <tr>\n",
       "      <th>0</th>\n",
       "      <td>1</td>\n",
       "      <td>0100300010219</td>\n",
       "      <td>POLYGON ((2426115.590 1092142.417, 2426127.238...</td>\n",
       "    </tr>\n",
       "    <tr>\n",
       "      <th>1</th>\n",
       "      <td>2</td>\n",
       "      <td>0100300010308</td>\n",
       "      <td>POLYGON ((2427391.801 1092999.416, 2427401.351...</td>\n",
       "    </tr>\n",
       "    <tr>\n",
       "      <th>2</th>\n",
       "      <td>3</td>\n",
       "      <td>0100300010295</td>\n",
       "      <td>POLYGON ((2426071.716 1093333.046, 2426066.733...</td>\n",
       "    </tr>\n",
       "    <tr>\n",
       "      <th>3</th>\n",
       "      <td>4</td>\n",
       "      <td>0100300010280</td>\n",
       "      <td>POLYGON ((2425220.510 1092968.592, 2425223.048...</td>\n",
       "    </tr>\n",
       "    <tr>\n",
       "      <th>4</th>\n",
       "      <td>5</td>\n",
       "      <td>0100300010204</td>\n",
       "      <td>POLYGON ((2426942.526 1092375.605, 2426931.804...</td>\n",
       "    </tr>\n",
       "    <tr>\n",
       "      <th>5</th>\n",
       "      <td>6</td>\n",
       "      <td>0100300010187</td>\n",
       "      <td>POLYGON ((2426630.204 1092532.649, 2426689.497...</td>\n",
       "    </tr>\n",
       "    <tr>\n",
       "      <th>6</th>\n",
       "      <td>7</td>\n",
       "      <td>0100300010223</td>\n",
       "      <td>POLYGON ((2424661.149 1092504.309, 2424667.849...</td>\n",
       "    </tr>\n",
       "    <tr>\n",
       "      <th>7</th>\n",
       "      <td>8</td>\n",
       "      <td>0100300010153</td>\n",
       "      <td>POLYGON ((2424716.893 1092539.356, 2424815.942...</td>\n",
       "    </tr>\n",
       "    <tr>\n",
       "      <th>8</th>\n",
       "      <td>9</td>\n",
       "      <td>0100300010168</td>\n",
       "      <td>POLYGON ((2428749.473 1093397.754, 2428752.843...</td>\n",
       "    </tr>\n",
       "    <tr>\n",
       "      <th>9</th>\n",
       "      <td>10</td>\n",
       "      <td>0100300010191</td>\n",
       "      <td>POLYGON ((2425553.899 1093766.375, 2425573.826...</td>\n",
       "    </tr>\n",
       "  </tbody>\n",
       "</table>\n",
       "</div>"
      ],
      "text/plain": [
       "   IDENTIFICA         CVEGEO  \\\n",
       "0           1  0100300010219   \n",
       "1           2  0100300010308   \n",
       "2           3  0100300010295   \n",
       "3           4  0100300010280   \n",
       "4           5  0100300010204   \n",
       "5           6  0100300010187   \n",
       "6           7  0100300010223   \n",
       "7           8  0100300010153   \n",
       "8           9  0100300010168   \n",
       "9          10  0100300010191   \n",
       "\n",
       "                                            geometry  \n",
       "0  POLYGON ((2426115.590 1092142.417, 2426127.238...  \n",
       "1  POLYGON ((2427391.801 1092999.416, 2427401.351...  \n",
       "2  POLYGON ((2426071.716 1093333.046, 2426066.733...  \n",
       "3  POLYGON ((2425220.510 1092968.592, 2425223.048...  \n",
       "4  POLYGON ((2426942.526 1092375.605, 2426931.804...  \n",
       "5  POLYGON ((2426630.204 1092532.649, 2426689.497...  \n",
       "6  POLYGON ((2424661.149 1092504.309, 2424667.849...  \n",
       "7  POLYGON ((2424716.893 1092539.356, 2424815.942...  \n",
       "8  POLYGON ((2428749.473 1093397.754, 2428752.843...  \n",
       "9  POLYGON ((2425553.899 1093766.375, 2425573.826...  "
      ]
     },
     "execution_count": 12,
     "metadata": {},
     "output_type": "execute_result"
    }
   ],
   "source": [
    "manzana\n"
   ]
  },
  {
   "cell_type": "code",
   "execution_count": 14,
   "id": "fa6f4566",
   "metadata": {},
   "outputs": [],
   "source": [
    "#manzana1 =gpd.read_file('C:/Users/Alexandra/Downloads/794551067444_s.zip/010030001/conjunto_de_datos/010030001a.shp')"
   ]
  },
  {
   "cell_type": "code",
   "execution_count": 18,
   "id": "db55311f",
   "metadata": {},
   "outputs": [
    {
     "data": {
      "text/plain": [
       "0    5.047654e+05\n",
       "1    4.125060e+05\n",
       "2    1.121144e+04\n",
       "3    2.422079e+05\n",
       "4    2.940562e+05\n",
       "5    5.320965e+05\n",
       "6    4.323542e+04\n",
       "7    7.925613e+05\n",
       "8    1.961962e+06\n",
       "9    7.442282e+05\n",
       "Name: area, dtype: float64"
      ]
     },
     "execution_count": 18,
     "metadata": {},
     "output_type": "execute_result"
    }
   ],
   "source": [
    "manzana[\"area\"] = manzana.area\n",
    "manzana[\"area\"]"
   ]
  },
  {
   "cell_type": "code",
   "execution_count": 19,
   "id": "7560281f",
   "metadata": {},
   "outputs": [
    {
     "data": {
      "text/plain": [
       "<AxesSubplot:>"
      ]
     },
     "execution_count": 19,
     "metadata": {},
     "output_type": "execute_result"
    },
    {
     "data": {
      "image/png": "[encoded data removed]",
      "text/plain": [
       "<Figure size 640x480 with 2 Axes>"
      ]
     },
     "metadata": {},
     "output_type": "display_data"
    }
   ],
   "source": [
    "manzana.plot(\"area\", legend=True)"
   ]
  },
  {
   "cell_type": "code",
   "execution_count": null,
   "id": "a17ac90e",
   "metadata": {},
   "outputs": [],
   "source": []
  }
 ],
 "metadata": {
  "kernelspec": {
   "display_name": "Python 3 (ipykernel)",
   "language": "python",
   "name": "python3"
  },
  "language_info": {
   "codemirror_mode": {
    "name": "ipython",
    "version": 3
   },
   "file_extension": ".py",
   "mimetype": "text/x-python",
   "name": "python",
   "nbconvert_exporter": "python",
   "pygments_lexer": "ipython3",
   "version": "3.10.6"
  },
  "toc": {
   "base_numbering": 1,
   "nav_menu": {},
   "number_sections": true,
   "sideBar": true,
   "skip_h1_title": false,
   "title_cell": "Table of Contents",
   "title_sidebar": "Contents",
   "toc_cell": false,
   "toc_position": {},
   "toc_section_display": true,
   "toc_window_display": false
  }
 },
 "nbformat": 4,
 "nbformat_minor": 5
}
